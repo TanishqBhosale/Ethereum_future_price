{
  "nbformat": 4,
  "nbformat_minor": 0,
  "metadata": {
    "colab": {
      "provenance": []
    },
    "kernelspec": {
      "name": "python3",
      "display_name": "Python 3"
    },
    "language_info": {
      "name": "python"
    },
    "widgets": {
      "application/vnd.jupyter.widget-state+json": {
        "5bf31aa729c24675ab33f5108af6ecea": {
          "model_module": "@jupyter-widgets/controls",
          "model_name": "HBoxModel",
          "model_module_version": "1.5.0",
          "state": {
            "_dom_classes": [],
            "_model_module": "@jupyter-widgets/controls",
            "_model_module_version": "1.5.0",
            "_model_name": "HBoxModel",
            "_view_count": null,
            "_view_module": "@jupyter-widgets/controls",
            "_view_module_version": "1.5.0",
            "_view_name": "HBoxView",
            "box_style": "",
            "children": [
              "IPY_MODEL_d447b5e250074a6a935e9c642144c7c3",
              "IPY_MODEL_4abfa7bdfa2a4dfdb7b848408f582fea",
              "IPY_MODEL_ce8e8e27f9cb44429c24a3f26da09c0e"
            ],
            "layout": "IPY_MODEL_3cc194d97551487992d221d0cd2f8d96"
          }
        },
        "d447b5e250074a6a935e9c642144c7c3": {
          "model_module": "@jupyter-widgets/controls",
          "model_name": "HTMLModel",
          "model_module_version": "1.5.0",
          "state": {
            "_dom_classes": [],
            "_model_module": "@jupyter-widgets/controls",
            "_model_module_version": "1.5.0",
            "_model_name": "HTMLModel",
            "_view_count": null,
            "_view_module": "@jupyter-widgets/controls",
            "_view_module_version": "1.5.0",
            "_view_name": "HTMLView",
            "description": "",
            "description_tooltip": null,
            "layout": "IPY_MODEL_30dc2ca390ff409ea71a7be4905f2a06",
            "placeholder": "​",
            "style": "IPY_MODEL_75842baf79f94436ac6daa586cd339f0",
            "value": "Processing: 100%"
          }
        },
        "4abfa7bdfa2a4dfdb7b848408f582fea": {
          "model_module": "@jupyter-widgets/controls",
          "model_name": "FloatProgressModel",
          "model_module_version": "1.5.0",
          "state": {
            "_dom_classes": [],
            "_model_module": "@jupyter-widgets/controls",
            "_model_module_version": "1.5.0",
            "_model_name": "FloatProgressModel",
            "_view_count": null,
            "_view_module": "@jupyter-widgets/controls",
            "_view_module_version": "1.5.0",
            "_view_name": "ProgressView",
            "bar_style": "",
            "description": "",
            "description_tooltip": null,
            "layout": "IPY_MODEL_cc7ead3e3d1b4f09b3645b5eadafa5b5",
            "max": 81,
            "min": 0,
            "orientation": "horizontal",
            "style": "IPY_MODEL_0651f0f595504c5890c036558ddd988d",
            "value": 81
          }
        },
        "ce8e8e27f9cb44429c24a3f26da09c0e": {
          "model_module": "@jupyter-widgets/controls",
          "model_name": "HTMLModel",
          "model_module_version": "1.5.0",
          "state": {
            "_dom_classes": [],
            "_model_module": "@jupyter-widgets/controls",
            "_model_module_version": "1.5.0",
            "_model_name": "HTMLModel",
            "_view_count": null,
            "_view_module": "@jupyter-widgets/controls",
            "_view_module_version": "1.5.0",
            "_view_name": "HTMLView",
            "description": "",
            "description_tooltip": null,
            "layout": "IPY_MODEL_dc950bb791274f41a7ff605a1a2209b5",
            "placeholder": "​",
            "style": "IPY_MODEL_741bfc3c8e8d4cd38ceb2e2b3b38ebef",
            "value": " 81/81 [00:45&lt;00:00,  2.62it/s]"
          }
        },
        "3cc194d97551487992d221d0cd2f8d96": {
          "model_module": "@jupyter-widgets/base",
          "model_name": "LayoutModel",
          "model_module_version": "1.2.0",
          "state": {
            "_model_module": "@jupyter-widgets/base",
            "_model_module_version": "1.2.0",
            "_model_name": "LayoutModel",
            "_view_count": null,
            "_view_module": "@jupyter-widgets/base",
            "_view_module_version": "1.2.0",
            "_view_name": "LayoutView",
            "align_content": null,
            "align_items": null,
            "align_self": null,
            "border": null,
            "bottom": null,
            "display": null,
            "flex": null,
            "flex_flow": null,
            "grid_area": null,
            "grid_auto_columns": null,
            "grid_auto_flow": null,
            "grid_auto_rows": null,
            "grid_column": null,
            "grid_gap": null,
            "grid_row": null,
            "grid_template_areas": null,
            "grid_template_columns": null,
            "grid_template_rows": null,
            "height": null,
            "justify_content": null,
            "justify_items": null,
            "left": null,
            "margin": null,
            "max_height": null,
            "max_width": null,
            "min_height": null,
            "min_width": null,
            "object_fit": null,
            "object_position": null,
            "order": null,
            "overflow": null,
            "overflow_x": null,
            "overflow_y": null,
            "padding": null,
            "right": null,
            "top": null,
            "visibility": "hidden",
            "width": null
          }
        },
        "30dc2ca390ff409ea71a7be4905f2a06": {
          "model_module": "@jupyter-widgets/base",
          "model_name": "LayoutModel",
          "model_module_version": "1.2.0",
          "state": {
            "_model_module": "@jupyter-widgets/base",
            "_model_module_version": "1.2.0",
            "_model_name": "LayoutModel",
            "_view_count": null,
            "_view_module": "@jupyter-widgets/base",
            "_view_module_version": "1.2.0",
            "_view_name": "LayoutView",
            "align_content": null,
            "align_items": null,
            "align_self": null,
            "border": null,
            "bottom": null,
            "display": null,
            "flex": null,
            "flex_flow": null,
            "grid_area": null,
            "grid_auto_columns": null,
            "grid_auto_flow": null,
            "grid_auto_rows": null,
            "grid_column": null,
            "grid_gap": null,
            "grid_row": null,
            "grid_template_areas": null,
            "grid_template_columns": null,
            "grid_template_rows": null,
            "height": null,
            "justify_content": null,
            "justify_items": null,
            "left": null,
            "margin": null,
            "max_height": null,
            "max_width": null,
            "min_height": null,
            "min_width": null,
            "object_fit": null,
            "object_position": null,
            "order": null,
            "overflow": null,
            "overflow_x": null,
            "overflow_y": null,
            "padding": null,
            "right": null,
            "top": null,
            "visibility": null,
            "width": null
          }
        },
        "75842baf79f94436ac6daa586cd339f0": {
          "model_module": "@jupyter-widgets/controls",
          "model_name": "DescriptionStyleModel",
          "model_module_version": "1.5.0",
          "state": {
            "_model_module": "@jupyter-widgets/controls",
            "_model_module_version": "1.5.0",
            "_model_name": "DescriptionStyleModel",
            "_view_count": null,
            "_view_module": "@jupyter-widgets/base",
            "_view_module_version": "1.2.0",
            "_view_name": "StyleView",
            "description_width": ""
          }
        },
        "cc7ead3e3d1b4f09b3645b5eadafa5b5": {
          "model_module": "@jupyter-widgets/base",
          "model_name": "LayoutModel",
          "model_module_version": "1.2.0",
          "state": {
            "_model_module": "@jupyter-widgets/base",
            "_model_module_version": "1.2.0",
            "_model_name": "LayoutModel",
            "_view_count": null,
            "_view_module": "@jupyter-widgets/base",
            "_view_module_version": "1.2.0",
            "_view_name": "LayoutView",
            "align_content": null,
            "align_items": null,
            "align_self": null,
            "border": null,
            "bottom": null,
            "display": null,
            "flex": null,
            "flex_flow": null,
            "grid_area": null,
            "grid_auto_columns": null,
            "grid_auto_flow": null,
            "grid_auto_rows": null,
            "grid_column": null,
            "grid_gap": null,
            "grid_row": null,
            "grid_template_areas": null,
            "grid_template_columns": null,
            "grid_template_rows": null,
            "height": null,
            "justify_content": null,
            "justify_items": null,
            "left": null,
            "margin": null,
            "max_height": null,
            "max_width": null,
            "min_height": null,
            "min_width": null,
            "object_fit": null,
            "object_position": null,
            "order": null,
            "overflow": null,
            "overflow_x": null,
            "overflow_y": null,
            "padding": null,
            "right": null,
            "top": null,
            "visibility": null,
            "width": null
          }
        },
        "0651f0f595504c5890c036558ddd988d": {
          "model_module": "@jupyter-widgets/controls",
          "model_name": "ProgressStyleModel",
          "model_module_version": "1.5.0",
          "state": {
            "_model_module": "@jupyter-widgets/controls",
            "_model_module_version": "1.5.0",
            "_model_name": "ProgressStyleModel",
            "_view_count": null,
            "_view_module": "@jupyter-widgets/base",
            "_view_module_version": "1.2.0",
            "_view_name": "StyleView",
            "bar_color": null,
            "description_width": ""
          }
        },
        "dc950bb791274f41a7ff605a1a2209b5": {
          "model_module": "@jupyter-widgets/base",
          "model_name": "LayoutModel",
          "model_module_version": "1.2.0",
          "state": {
            "_model_module": "@jupyter-widgets/base",
            "_model_module_version": "1.2.0",
            "_model_name": "LayoutModel",
            "_view_count": null,
            "_view_module": "@jupyter-widgets/base",
            "_view_module_version": "1.2.0",
            "_view_name": "LayoutView",
            "align_content": null,
            "align_items": null,
            "align_self": null,
            "border": null,
            "bottom": null,
            "display": null,
            "flex": null,
            "flex_flow": null,
            "grid_area": null,
            "grid_auto_columns": null,
            "grid_auto_flow": null,
            "grid_auto_rows": null,
            "grid_column": null,
            "grid_gap": null,
            "grid_row": null,
            "grid_template_areas": null,
            "grid_template_columns": null,
            "grid_template_rows": null,
            "height": null,
            "justify_content": null,
            "justify_items": null,
            "left": null,
            "margin": null,
            "max_height": null,
            "max_width": null,
            "min_height": null,
            "min_width": null,
            "object_fit": null,
            "object_position": null,
            "order": null,
            "overflow": null,
            "overflow_x": null,
            "overflow_y": null,
            "padding": null,
            "right": null,
            "top": null,
            "visibility": null,
            "width": null
          }
        },
        "741bfc3c8e8d4cd38ceb2e2b3b38ebef": {
          "model_module": "@jupyter-widgets/controls",
          "model_name": "DescriptionStyleModel",
          "model_module_version": "1.5.0",
          "state": {
            "_model_module": "@jupyter-widgets/controls",
            "_model_module_version": "1.5.0",
            "_model_name": "DescriptionStyleModel",
            "_view_count": null,
            "_view_module": "@jupyter-widgets/base",
            "_view_module_version": "1.2.0",
            "_view_name": "StyleView",
            "description_width": ""
          }
        }
      }
    }
  },
  "cells": [
    {
      "cell_type": "code",
      "execution_count": null,
      "metadata": {
        "id": "YxEgUzqzjWqP"
      },
      "outputs": [],
      "source": [
        "import pandas as pd\n",
        "import seaborn as sns\n",
        "import matplotlib.pyplot as plt\n",
        "import numpy as np"
      ]
    },
    {
      "cell_type": "code",
      "source": [
        "df=pd.read_csv('https://docs.google.com/spreadsheets/d/10s7CNwgy8pJoSrbLFR3DAn_DffPIpdHqPhYzfP4eN_A/export?format=csv')\n",
        "df"
      ],
      "metadata": {
        "colab": {
          "base_uri": "https://localhost:8080/",
          "height": 423
        },
        "id": "hzAoDqCnnL_D",
        "outputId": "48e64d37-94cf-4af5-99ca-959c07a24f5b"
      },
      "execution_count": null,
      "outputs": [
        {
          "output_type": "execute_result",
          "data": {
            "text/plain": [
              "              Date     Price      Open      High       Low     Vol. Change %\n",
              "0     May 19, 2023  1,807.38  1,800.95  1,808.94  1,796.99  315.13K    0.35%\n",
              "1     May 18, 2023  1,800.99  1,822.12  1,831.51  1,774.77  311.24K   -1.14%\n",
              "2     May 17, 2023  1,821.73  1,823.98  1,834.44  1,785.78  376.26K   -0.12%\n",
              "3     May 16, 2023  1,823.98  1,817.11  1,830.01  1,797.60  325.77K    0.38%\n",
              "4     May 15, 2023  1,817.11  1,799.36  1,845.27  1,786.61  405.84K    0.99%\n",
              "...            ...       ...       ...       ...       ...      ...      ...\n",
              "2622  Mar 14, 2016      12.5     15.07     15.07      11.4   92.18K  -17.05%\n",
              "2623  Mar 13, 2016     15.07     12.92     15.07     12.92    1.30K   16.64%\n",
              "2624  Mar 12, 2016     12.92     11.95     13.45     11.95    0.83K    8.12%\n",
              "2625  Mar 11, 2016     11.95     11.75     11.95     11.75    0.18K    1.70%\n",
              "2626  Mar 10, 2016     11.75      11.2     11.85     11.07    0.00K    4.91%\n",
              "\n",
              "[2627 rows x 7 columns]"
            ],
            "text/html": [
              "\n",
              "  <div id=\"df-3f7c4e96-3575-4bae-a6af-2dde8e2fdde0\">\n",
              "    <div class=\"colab-df-container\">\n",
              "      <div>\n",
              "<style scoped>\n",
              "    .dataframe tbody tr th:only-of-type {\n",
              "        vertical-align: middle;\n",
              "    }\n",
              "\n",
              "    .dataframe tbody tr th {\n",
              "        vertical-align: top;\n",
              "    }\n",
              "\n",
              "    .dataframe thead th {\n",
              "        text-align: right;\n",
              "    }\n",
              "</style>\n",
              "<table border=\"1\" class=\"dataframe\">\n",
              "  <thead>\n",
              "    <tr style=\"text-align: right;\">\n",
              "      <th></th>\n",
              "      <th>Date</th>\n",
              "      <th>Price</th>\n",
              "      <th>Open</th>\n",
              "      <th>High</th>\n",
              "      <th>Low</th>\n",
              "      <th>Vol.</th>\n",
              "      <th>Change %</th>\n",
              "    </tr>\n",
              "  </thead>\n",
              "  <tbody>\n",
              "    <tr>\n",
              "      <th>0</th>\n",
              "      <td>May 19, 2023</td>\n",
              "      <td>1,807.38</td>\n",
              "      <td>1,800.95</td>\n",
              "      <td>1,808.94</td>\n",
              "      <td>1,796.99</td>\n",
              "      <td>315.13K</td>\n",
              "      <td>0.35%</td>\n",
              "    </tr>\n",
              "    <tr>\n",
              "      <th>1</th>\n",
              "      <td>May 18, 2023</td>\n",
              "      <td>1,800.99</td>\n",
              "      <td>1,822.12</td>\n",
              "      <td>1,831.51</td>\n",
              "      <td>1,774.77</td>\n",
              "      <td>311.24K</td>\n",
              "      <td>-1.14%</td>\n",
              "    </tr>\n",
              "    <tr>\n",
              "      <th>2</th>\n",
              "      <td>May 17, 2023</td>\n",
              "      <td>1,821.73</td>\n",
              "      <td>1,823.98</td>\n",
              "      <td>1,834.44</td>\n",
              "      <td>1,785.78</td>\n",
              "      <td>376.26K</td>\n",
              "      <td>-0.12%</td>\n",
              "    </tr>\n",
              "    <tr>\n",
              "      <th>3</th>\n",
              "      <td>May 16, 2023</td>\n",
              "      <td>1,823.98</td>\n",
              "      <td>1,817.11</td>\n",
              "      <td>1,830.01</td>\n",
              "      <td>1,797.60</td>\n",
              "      <td>325.77K</td>\n",
              "      <td>0.38%</td>\n",
              "    </tr>\n",
              "    <tr>\n",
              "      <th>4</th>\n",
              "      <td>May 15, 2023</td>\n",
              "      <td>1,817.11</td>\n",
              "      <td>1,799.36</td>\n",
              "      <td>1,845.27</td>\n",
              "      <td>1,786.61</td>\n",
              "      <td>405.84K</td>\n",
              "      <td>0.99%</td>\n",
              "    </tr>\n",
              "    <tr>\n",
              "      <th>...</th>\n",
              "      <td>...</td>\n",
              "      <td>...</td>\n",
              "      <td>...</td>\n",
              "      <td>...</td>\n",
              "      <td>...</td>\n",
              "      <td>...</td>\n",
              "      <td>...</td>\n",
              "    </tr>\n",
              "    <tr>\n",
              "      <th>2622</th>\n",
              "      <td>Mar 14, 2016</td>\n",
              "      <td>12.5</td>\n",
              "      <td>15.07</td>\n",
              "      <td>15.07</td>\n",
              "      <td>11.4</td>\n",
              "      <td>92.18K</td>\n",
              "      <td>-17.05%</td>\n",
              "    </tr>\n",
              "    <tr>\n",
              "      <th>2623</th>\n",
              "      <td>Mar 13, 2016</td>\n",
              "      <td>15.07</td>\n",
              "      <td>12.92</td>\n",
              "      <td>15.07</td>\n",
              "      <td>12.92</td>\n",
              "      <td>1.30K</td>\n",
              "      <td>16.64%</td>\n",
              "    </tr>\n",
              "    <tr>\n",
              "      <th>2624</th>\n",
              "      <td>Mar 12, 2016</td>\n",
              "      <td>12.92</td>\n",
              "      <td>11.95</td>\n",
              "      <td>13.45</td>\n",
              "      <td>11.95</td>\n",
              "      <td>0.83K</td>\n",
              "      <td>8.12%</td>\n",
              "    </tr>\n",
              "    <tr>\n",
              "      <th>2625</th>\n",
              "      <td>Mar 11, 2016</td>\n",
              "      <td>11.95</td>\n",
              "      <td>11.75</td>\n",
              "      <td>11.95</td>\n",
              "      <td>11.75</td>\n",
              "      <td>0.18K</td>\n",
              "      <td>1.70%</td>\n",
              "    </tr>\n",
              "    <tr>\n",
              "      <th>2626</th>\n",
              "      <td>Mar 10, 2016</td>\n",
              "      <td>11.75</td>\n",
              "      <td>11.2</td>\n",
              "      <td>11.85</td>\n",
              "      <td>11.07</td>\n",
              "      <td>0.00K</td>\n",
              "      <td>4.91%</td>\n",
              "    </tr>\n",
              "  </tbody>\n",
              "</table>\n",
              "<p>2627 rows × 7 columns</p>\n",
              "</div>\n",
              "      <button class=\"colab-df-convert\" onclick=\"convertToInteractive('df-3f7c4e96-3575-4bae-a6af-2dde8e2fdde0')\"\n",
              "              title=\"Convert this dataframe to an interactive table.\"\n",
              "              style=\"display:none;\">\n",
              "        \n",
              "  <svg xmlns=\"http://www.w3.org/2000/svg\" height=\"24px\"viewBox=\"0 0 24 24\"\n",
              "       width=\"24px\">\n",
              "    <path d=\"M0 0h24v24H0V0z\" fill=\"none\"/>\n",
              "    <path d=\"M18.56 5.44l.94 2.06.94-2.06 2.06-.94-2.06-.94-.94-2.06-.94 2.06-2.06.94zm-11 1L8.5 8.5l.94-2.06 2.06-.94-2.06-.94L8.5 2.5l-.94 2.06-2.06.94zm10 10l.94 2.06.94-2.06 2.06-.94-2.06-.94-.94-2.06-.94 2.06-2.06.94z\"/><path d=\"M17.41 7.96l-1.37-1.37c-.4-.4-.92-.59-1.43-.59-.52 0-1.04.2-1.43.59L10.3 9.45l-7.72 7.72c-.78.78-.78 2.05 0 2.83L4 21.41c.39.39.9.59 1.41.59.51 0 1.02-.2 1.41-.59l7.78-7.78 2.81-2.81c.8-.78.8-2.07 0-2.86zM5.41 20L4 18.59l7.72-7.72 1.47 1.35L5.41 20z\"/>\n",
              "  </svg>\n",
              "      </button>\n",
              "      \n",
              "  <style>\n",
              "    .colab-df-container {\n",
              "      display:flex;\n",
              "      flex-wrap:wrap;\n",
              "      gap: 12px;\n",
              "    }\n",
              "\n",
              "    .colab-df-convert {\n",
              "      background-color: #E8F0FE;\n",
              "      border: none;\n",
              "      border-radius: 50%;\n",
              "      cursor: pointer;\n",
              "      display: none;\n",
              "      fill: #1967D2;\n",
              "      height: 32px;\n",
              "      padding: 0 0 0 0;\n",
              "      width: 32px;\n",
              "    }\n",
              "\n",
              "    .colab-df-convert:hover {\n",
              "      background-color: #E2EBFA;\n",
              "      box-shadow: 0px 1px 2px rgba(60, 64, 67, 0.3), 0px 1px 3px 1px rgba(60, 64, 67, 0.15);\n",
              "      fill: #174EA6;\n",
              "    }\n",
              "\n",
              "    [theme=dark] .colab-df-convert {\n",
              "      background-color: #3B4455;\n",
              "      fill: #D2E3FC;\n",
              "    }\n",
              "\n",
              "    [theme=dark] .colab-df-convert:hover {\n",
              "      background-color: #434B5C;\n",
              "      box-shadow: 0px 1px 3px 1px rgba(0, 0, 0, 0.15);\n",
              "      filter: drop-shadow(0px 1px 2px rgba(0, 0, 0, 0.3));\n",
              "      fill: #FFFFFF;\n",
              "    }\n",
              "  </style>\n",
              "\n",
              "      <script>\n",
              "        const buttonEl =\n",
              "          document.querySelector('#df-3f7c4e96-3575-4bae-a6af-2dde8e2fdde0 button.colab-df-convert');\n",
              "        buttonEl.style.display =\n",
              "          google.colab.kernel.accessAllowed ? 'block' : 'none';\n",
              "\n",
              "        async function convertToInteractive(key) {\n",
              "          const element = document.querySelector('#df-3f7c4e96-3575-4bae-a6af-2dde8e2fdde0');\n",
              "          const dataTable =\n",
              "            await google.colab.kernel.invokeFunction('convertToInteractive',\n",
              "                                                     [key], {});\n",
              "          if (!dataTable) return;\n",
              "\n",
              "          const docLinkHtml = 'Like what you see? Visit the ' +\n",
              "            '<a target=\"_blank\" href=https://colab.research.google.com/notebooks/data_table.ipynb>data table notebook</a>'\n",
              "            + ' to learn more about interactive tables.';\n",
              "          element.innerHTML = '';\n",
              "          dataTable['output_type'] = 'display_data';\n",
              "          await google.colab.output.renderOutput(dataTable, element);\n",
              "          const docLink = document.createElement('div');\n",
              "          docLink.innerHTML = docLinkHtml;\n",
              "          element.appendChild(docLink);\n",
              "        }\n",
              "      </script>\n",
              "    </div>\n",
              "  </div>\n",
              "  "
            ]
          },
          "metadata": {},
          "execution_count": 72
        }
      ]
    },
    {
      "cell_type": "code",
      "source": [
        "df.info()"
      ],
      "metadata": {
        "colab": {
          "base_uri": "https://localhost:8080/"
        },
        "id": "oxEp_bO-CiHc",
        "outputId": "6cde48b4-53dd-48e0-8f5c-bb03ebc16758"
      },
      "execution_count": null,
      "outputs": [
        {
          "output_type": "stream",
          "name": "stdout",
          "text": [
            "<class 'pandas.core.frame.DataFrame'>\n",
            "Int64Index: 2612 entries, 0 to 2618\n",
            "Data columns (total 14 columns):\n",
            " #   Column    Non-Null Count  Dtype         \n",
            "---  ------    --------------  -----         \n",
            " 0   Date      2612 non-null   datetime64[ns]\n",
            " 1   Price     2612 non-null   float64       \n",
            " 2   Open      2612 non-null   float64       \n",
            " 3   High      2612 non-null   float64       \n",
            " 4   Low       2612 non-null   float64       \n",
            " 5   Vol.      2612 non-null   object        \n",
            " 6   Change %  2612 non-null   float64       \n",
            " 7   Year      2612 non-null   int64         \n",
            " 8   Month     2612 non-null   int64         \n",
            " 9   Day       2612 non-null   int64         \n",
            " 10  year      2612 non-null   int64         \n",
            " 11  month     2612 non-null   int64         \n",
            " 12  day       2612 non-null   int64         \n",
            " 13  weekday   2612 non-null   int64         \n",
            "dtypes: datetime64[ns](1), float64(5), int64(7), object(1)\n",
            "memory usage: 370.6+ KB\n"
          ]
        }
      ]
    },
    {
      "cell_type": "code",
      "source": [
        "df.isnull().sum()"
      ],
      "metadata": {
        "colab": {
          "base_uri": "https://localhost:8080/"
        },
        "id": "LKdAtzp-nTpw",
        "outputId": "320601b6-4795-4fa9-a2e4-30d8c62f0f28"
      },
      "execution_count": null,
      "outputs": [
        {
          "output_type": "execute_result",
          "data": {
            "text/plain": [
              "Date        0\n",
              "Price       0\n",
              "Open        0\n",
              "High        0\n",
              "Low         0\n",
              "Vol.        0\n",
              "Change %    0\n",
              "dtype: int64"
            ]
          },
          "metadata": {},
          "execution_count": 73
        }
      ]
    },
    {
      "cell_type": "markdown",
      "source": [
        "**DATA CLEANING**\n",
        "\n",
        "volume "
      ],
      "metadata": {
        "id": "ta6mV5YsR3NV"
      }
    },
    {
      "cell_type": "code",
      "source": [
        "df.drop(df[df['Vol.']=='-'].index, inplace=True)"
      ],
      "metadata": {
        "id": "bl0yPA5_nXql"
      },
      "execution_count": null,
      "outputs": []
    },
    {
      "cell_type": "code",
      "source": [
        "EV=df['Vol.']\n",
        "E=[]\n",
        "for x in EV:\n",
        "    if x.endswith(\"B\"):\n",
        "        x=x[:-1]\n",
        "        x=float(x)\n",
        "        x=x*1000000000\n",
        "        E.append(x)\n",
        "    elif x.endswith(\"K\"):\n",
        "        x=x[:-1]\n",
        "        x=float(x)\n",
        "        x=x*1000\n",
        "        E.append(x)\n",
        "    elif x.endswith(\"M\"):\n",
        "        x=x[:-1]\n",
        "        x=float(x)\n",
        "        x=x*1000000\n",
        "        E.append(x)"
      ],
      "metadata": {
        "id": "9NeJxvozGj4M"
      },
      "execution_count": null,
      "outputs": []
    },
    {
      "cell_type": "markdown",
      "source": [
        "Change"
      ],
      "metadata": {
        "id": "yCv9r6iwSEMD"
      }
    },
    {
      "cell_type": "code",
      "source": [
        "df['Change %'] = df['Change %'].str.replace('%', '').astype(float)\n",
        "df"
      ],
      "metadata": {
        "colab": {
          "base_uri": "https://localhost:8080/",
          "height": 423
        },
        "id": "V29AJlafGpki",
        "outputId": "b271e0d8-9187-40ab-e544-6382c3f789ba"
      },
      "execution_count": null,
      "outputs": [
        {
          "output_type": "execute_result",
          "data": {
            "text/plain": [
              "              Date     Price      Open      High       Low     Vol.  Change %\n",
              "0     May 19, 2023  1,807.38  1,800.95  1,808.94  1,796.99  315.13K      0.35\n",
              "1     May 18, 2023  1,800.99  1,822.12  1,831.51  1,774.77  311.24K     -1.14\n",
              "2     May 17, 2023  1,821.73  1,823.98  1,834.44  1,785.78  376.26K     -0.12\n",
              "3     May 16, 2023  1,823.98  1,817.11  1,830.01  1,797.60  325.77K      0.38\n",
              "4     May 15, 2023  1,817.11  1,799.36  1,845.27  1,786.61  405.84K      0.99\n",
              "...            ...       ...       ...       ...       ...      ...       ...\n",
              "2622  Mar 14, 2016      12.5     15.07     15.07      11.4   92.18K    -17.05\n",
              "2623  Mar 13, 2016     15.07     12.92     15.07     12.92    1.30K     16.64\n",
              "2624  Mar 12, 2016     12.92     11.95     13.45     11.95    0.83K      8.12\n",
              "2625  Mar 11, 2016     11.95     11.75     11.95     11.75    0.18K      1.70\n",
              "2626  Mar 10, 2016     11.75      11.2     11.85     11.07    0.00K      4.91\n",
              "\n",
              "[2619 rows x 7 columns]"
            ],
            "text/html": [
              "\n",
              "  <div id=\"df-e4c0992e-563d-4067-8a6f-4abca5394e35\">\n",
              "    <div class=\"colab-df-container\">\n",
              "      <div>\n",
              "<style scoped>\n",
              "    .dataframe tbody tr th:only-of-type {\n",
              "        vertical-align: middle;\n",
              "    }\n",
              "\n",
              "    .dataframe tbody tr th {\n",
              "        vertical-align: top;\n",
              "    }\n",
              "\n",
              "    .dataframe thead th {\n",
              "        text-align: right;\n",
              "    }\n",
              "</style>\n",
              "<table border=\"1\" class=\"dataframe\">\n",
              "  <thead>\n",
              "    <tr style=\"text-align: right;\">\n",
              "      <th></th>\n",
              "      <th>Date</th>\n",
              "      <th>Price</th>\n",
              "      <th>Open</th>\n",
              "      <th>High</th>\n",
              "      <th>Low</th>\n",
              "      <th>Vol.</th>\n",
              "      <th>Change %</th>\n",
              "    </tr>\n",
              "  </thead>\n",
              "  <tbody>\n",
              "    <tr>\n",
              "      <th>0</th>\n",
              "      <td>May 19, 2023</td>\n",
              "      <td>1,807.38</td>\n",
              "      <td>1,800.95</td>\n",
              "      <td>1,808.94</td>\n",
              "      <td>1,796.99</td>\n",
              "      <td>315.13K</td>\n",
              "      <td>0.35</td>\n",
              "    </tr>\n",
              "    <tr>\n",
              "      <th>1</th>\n",
              "      <td>May 18, 2023</td>\n",
              "      <td>1,800.99</td>\n",
              "      <td>1,822.12</td>\n",
              "      <td>1,831.51</td>\n",
              "      <td>1,774.77</td>\n",
              "      <td>311.24K</td>\n",
              "      <td>-1.14</td>\n",
              "    </tr>\n",
              "    <tr>\n",
              "      <th>2</th>\n",
              "      <td>May 17, 2023</td>\n",
              "      <td>1,821.73</td>\n",
              "      <td>1,823.98</td>\n",
              "      <td>1,834.44</td>\n",
              "      <td>1,785.78</td>\n",
              "      <td>376.26K</td>\n",
              "      <td>-0.12</td>\n",
              "    </tr>\n",
              "    <tr>\n",
              "      <th>3</th>\n",
              "      <td>May 16, 2023</td>\n",
              "      <td>1,823.98</td>\n",
              "      <td>1,817.11</td>\n",
              "      <td>1,830.01</td>\n",
              "      <td>1,797.60</td>\n",
              "      <td>325.77K</td>\n",
              "      <td>0.38</td>\n",
              "    </tr>\n",
              "    <tr>\n",
              "      <th>4</th>\n",
              "      <td>May 15, 2023</td>\n",
              "      <td>1,817.11</td>\n",
              "      <td>1,799.36</td>\n",
              "      <td>1,845.27</td>\n",
              "      <td>1,786.61</td>\n",
              "      <td>405.84K</td>\n",
              "      <td>0.99</td>\n",
              "    </tr>\n",
              "    <tr>\n",
              "      <th>...</th>\n",
              "      <td>...</td>\n",
              "      <td>...</td>\n",
              "      <td>...</td>\n",
              "      <td>...</td>\n",
              "      <td>...</td>\n",
              "      <td>...</td>\n",
              "      <td>...</td>\n",
              "    </tr>\n",
              "    <tr>\n",
              "      <th>2622</th>\n",
              "      <td>Mar 14, 2016</td>\n",
              "      <td>12.5</td>\n",
              "      <td>15.07</td>\n",
              "      <td>15.07</td>\n",
              "      <td>11.4</td>\n",
              "      <td>92.18K</td>\n",
              "      <td>-17.05</td>\n",
              "    </tr>\n",
              "    <tr>\n",
              "      <th>2623</th>\n",
              "      <td>Mar 13, 2016</td>\n",
              "      <td>15.07</td>\n",
              "      <td>12.92</td>\n",
              "      <td>15.07</td>\n",
              "      <td>12.92</td>\n",
              "      <td>1.30K</td>\n",
              "      <td>16.64</td>\n",
              "    </tr>\n",
              "    <tr>\n",
              "      <th>2624</th>\n",
              "      <td>Mar 12, 2016</td>\n",
              "      <td>12.92</td>\n",
              "      <td>11.95</td>\n",
              "      <td>13.45</td>\n",
              "      <td>11.95</td>\n",
              "      <td>0.83K</td>\n",
              "      <td>8.12</td>\n",
              "    </tr>\n",
              "    <tr>\n",
              "      <th>2625</th>\n",
              "      <td>Mar 11, 2016</td>\n",
              "      <td>11.95</td>\n",
              "      <td>11.75</td>\n",
              "      <td>11.95</td>\n",
              "      <td>11.75</td>\n",
              "      <td>0.18K</td>\n",
              "      <td>1.70</td>\n",
              "    </tr>\n",
              "    <tr>\n",
              "      <th>2626</th>\n",
              "      <td>Mar 10, 2016</td>\n",
              "      <td>11.75</td>\n",
              "      <td>11.2</td>\n",
              "      <td>11.85</td>\n",
              "      <td>11.07</td>\n",
              "      <td>0.00K</td>\n",
              "      <td>4.91</td>\n",
              "    </tr>\n",
              "  </tbody>\n",
              "</table>\n",
              "<p>2619 rows × 7 columns</p>\n",
              "</div>\n",
              "      <button class=\"colab-df-convert\" onclick=\"convertToInteractive('df-e4c0992e-563d-4067-8a6f-4abca5394e35')\"\n",
              "              title=\"Convert this dataframe to an interactive table.\"\n",
              "              style=\"display:none;\">\n",
              "        \n",
              "  <svg xmlns=\"http://www.w3.org/2000/svg\" height=\"24px\"viewBox=\"0 0 24 24\"\n",
              "       width=\"24px\">\n",
              "    <path d=\"M0 0h24v24H0V0z\" fill=\"none\"/>\n",
              "    <path d=\"M18.56 5.44l.94 2.06.94-2.06 2.06-.94-2.06-.94-.94-2.06-.94 2.06-2.06.94zm-11 1L8.5 8.5l.94-2.06 2.06-.94-2.06-.94L8.5 2.5l-.94 2.06-2.06.94zm10 10l.94 2.06.94-2.06 2.06-.94-2.06-.94-.94-2.06-.94 2.06-2.06.94z\"/><path d=\"M17.41 7.96l-1.37-1.37c-.4-.4-.92-.59-1.43-.59-.52 0-1.04.2-1.43.59L10.3 9.45l-7.72 7.72c-.78.78-.78 2.05 0 2.83L4 21.41c.39.39.9.59 1.41.59.51 0 1.02-.2 1.41-.59l7.78-7.78 2.81-2.81c.8-.78.8-2.07 0-2.86zM5.41 20L4 18.59l7.72-7.72 1.47 1.35L5.41 20z\"/>\n",
              "  </svg>\n",
              "      </button>\n",
              "      \n",
              "  <style>\n",
              "    .colab-df-container {\n",
              "      display:flex;\n",
              "      flex-wrap:wrap;\n",
              "      gap: 12px;\n",
              "    }\n",
              "\n",
              "    .colab-df-convert {\n",
              "      background-color: #E8F0FE;\n",
              "      border: none;\n",
              "      border-radius: 50%;\n",
              "      cursor: pointer;\n",
              "      display: none;\n",
              "      fill: #1967D2;\n",
              "      height: 32px;\n",
              "      padding: 0 0 0 0;\n",
              "      width: 32px;\n",
              "    }\n",
              "\n",
              "    .colab-df-convert:hover {\n",
              "      background-color: #E2EBFA;\n",
              "      box-shadow: 0px 1px 2px rgba(60, 64, 67, 0.3), 0px 1px 3px 1px rgba(60, 64, 67, 0.15);\n",
              "      fill: #174EA6;\n",
              "    }\n",
              "\n",
              "    [theme=dark] .colab-df-convert {\n",
              "      background-color: #3B4455;\n",
              "      fill: #D2E3FC;\n",
              "    }\n",
              "\n",
              "    [theme=dark] .colab-df-convert:hover {\n",
              "      background-color: #434B5C;\n",
              "      box-shadow: 0px 1px 3px 1px rgba(0, 0, 0, 0.15);\n",
              "      filter: drop-shadow(0px 1px 2px rgba(0, 0, 0, 0.3));\n",
              "      fill: #FFFFFF;\n",
              "    }\n",
              "  </style>\n",
              "\n",
              "      <script>\n",
              "        const buttonEl =\n",
              "          document.querySelector('#df-e4c0992e-563d-4067-8a6f-4abca5394e35 button.colab-df-convert');\n",
              "        buttonEl.style.display =\n",
              "          google.colab.kernel.accessAllowed ? 'block' : 'none';\n",
              "\n",
              "        async function convertToInteractive(key) {\n",
              "          const element = document.querySelector('#df-e4c0992e-563d-4067-8a6f-4abca5394e35');\n",
              "          const dataTable =\n",
              "            await google.colab.kernel.invokeFunction('convertToInteractive',\n",
              "                                                     [key], {});\n",
              "          if (!dataTable) return;\n",
              "\n",
              "          const docLinkHtml = 'Like what you see? Visit the ' +\n",
              "            '<a target=\"_blank\" href=https://colab.research.google.com/notebooks/data_table.ipynb>data table notebook</a>'\n",
              "            + ' to learn more about interactive tables.';\n",
              "          element.innerHTML = '';\n",
              "          dataTable['output_type'] = 'display_data';\n",
              "          await google.colab.output.renderOutput(dataTable, element);\n",
              "          const docLink = document.createElement('div');\n",
              "          docLink.innerHTML = docLinkHtml;\n",
              "          element.appendChild(docLink);\n",
              "        }\n",
              "      </script>\n",
              "    </div>\n",
              "  </div>\n",
              "  "
            ]
          },
          "metadata": {},
          "execution_count": 76
        }
      ]
    },
    {
      "cell_type": "markdown",
      "source": [
        "Removel of commas from a number (countinous values)"
      ],
      "metadata": {
        "id": "MMu-jnlQSIu_"
      }
    },
    {
      "cell_type": "code",
      "source": [
        "df[\"Price\"]=df[\"Price\"].str.extract(\"([0-9,]+\\.?[0-9]+)\").replace(',','', regex=True).astype(\"float\")\n",
        "df[\"Open\"]=df[\"Open\"].str.extract(\"([0-9,]+\\.?[0-9]+)\").replace(',','', regex=True).astype(\"float\")\n",
        "df[\"High\"]=df[\"High\"].str.extract(\"([0-9,]+\\.?[0-9]+)\").replace(',','', regex=True).astype(\"float\")\n",
        "df[\"Low\"]=df[\"Low\"].str.extract(\"([0-9,]+\\.?[0-9]+)\").replace(',','', regex=True).astype(\"float\")"
      ],
      "metadata": {
        "id": "Url8lC-lGrro"
      },
      "execution_count": null,
      "outputs": []
    },
    {
      "cell_type": "markdown",
      "source": [
        "Date"
      ],
      "metadata": {
        "id": "UY_4SBsQSR42"
      }
    },
    {
      "cell_type": "code",
      "source": [
        "df['Date'] = pd.to_datetime(df['Date'])"
      ],
      "metadata": {
        "id": "doCKi0ZVn73U"
      },
      "execution_count": null,
      "outputs": []
    },
    {
      "cell_type": "markdown",
      "source": [
        "creating 3 new columns describlibf DATE"
      ],
      "metadata": {
        "id": "gu7ks_jKSdJM"
      }
    },
    {
      "cell_type": "code",
      "source": [
        "df['Year'] = df['Date'].dt.year\n",
        "df['Month'] = df['Date'].dt.month\n",
        "df['Day'] = df['Date'].dt.day"
      ],
      "metadata": {
        "id": "qDzJnTjLoNl0"
      },
      "execution_count": null,
      "outputs": []
    },
    {
      "cell_type": "markdown",
      "source": [
        "rearranging the roww starting from 10-3-2016"
      ],
      "metadata": {
        "id": "o60ir1xJSlnb"
      }
    },
    {
      "cell_type": "code",
      "source": [
        "df=df.loc[::-1].reset_index(drop=True)\n",
        "df"
      ],
      "metadata": {
        "colab": {
          "base_uri": "https://localhost:8080/",
          "height": 423
        },
        "id": "_uG7YZz5G2CX",
        "outputId": "bb9d11d1-42f0-4556-8b39-83af135a3a3d"
      },
      "execution_count": null,
      "outputs": [
        {
          "output_type": "execute_result",
          "data": {
            "text/plain": [
              "           Date    Price     Open     High      Low     Vol.  Change %  Year  \\\n",
              "0    2016-03-10    11.75    11.20    11.85    11.07    0.00K      4.91  2016   \n",
              "1    2016-03-11    11.95    11.75    11.95    11.75    0.18K      1.70  2016   \n",
              "2    2016-03-12    12.92    11.95    13.45    11.95    0.83K      8.12  2016   \n",
              "3    2016-03-13    15.07    12.92    15.07    12.92    1.30K     16.64  2016   \n",
              "4    2016-03-14    12.50    15.07    15.07    11.40   92.18K    -17.05  2016   \n",
              "...         ...      ...      ...      ...      ...      ...       ...   ...   \n",
              "2614 2023-05-15  1817.11  1799.36  1845.27  1786.61  405.84K      0.99  2023   \n",
              "2615 2023-05-16  1823.98  1817.11  1830.01  1797.60  325.77K      0.38  2023   \n",
              "2616 2023-05-17  1821.73  1823.98  1834.44  1785.78  376.26K     -0.12  2023   \n",
              "2617 2023-05-18  1800.99  1822.12  1831.51  1774.77  311.24K     -1.14  2023   \n",
              "2618 2023-05-19  1807.38  1800.95  1808.94  1796.99  315.13K      0.35  2023   \n",
              "\n",
              "      Month  Day  \n",
              "0         3   10  \n",
              "1         3   11  \n",
              "2         3   12  \n",
              "3         3   13  \n",
              "4         3   14  \n",
              "...     ...  ...  \n",
              "2614      5   15  \n",
              "2615      5   16  \n",
              "2616      5   17  \n",
              "2617      5   18  \n",
              "2618      5   19  \n",
              "\n",
              "[2619 rows x 10 columns]"
            ],
            "text/html": [
              "\n",
              "  <div id=\"df-5fa1a3a7-6529-47f4-914a-3c010d07a6e3\">\n",
              "    <div class=\"colab-df-container\">\n",
              "      <div>\n",
              "<style scoped>\n",
              "    .dataframe tbody tr th:only-of-type {\n",
              "        vertical-align: middle;\n",
              "    }\n",
              "\n",
              "    .dataframe tbody tr th {\n",
              "        vertical-align: top;\n",
              "    }\n",
              "\n",
              "    .dataframe thead th {\n",
              "        text-align: right;\n",
              "    }\n",
              "</style>\n",
              "<table border=\"1\" class=\"dataframe\">\n",
              "  <thead>\n",
              "    <tr style=\"text-align: right;\">\n",
              "      <th></th>\n",
              "      <th>Date</th>\n",
              "      <th>Price</th>\n",
              "      <th>Open</th>\n",
              "      <th>High</th>\n",
              "      <th>Low</th>\n",
              "      <th>Vol.</th>\n",
              "      <th>Change %</th>\n",
              "      <th>Year</th>\n",
              "      <th>Month</th>\n",
              "      <th>Day</th>\n",
              "    </tr>\n",
              "  </thead>\n",
              "  <tbody>\n",
              "    <tr>\n",
              "      <th>0</th>\n",
              "      <td>2016-03-10</td>\n",
              "      <td>11.75</td>\n",
              "      <td>11.20</td>\n",
              "      <td>11.85</td>\n",
              "      <td>11.07</td>\n",
              "      <td>0.00K</td>\n",
              "      <td>4.91</td>\n",
              "      <td>2016</td>\n",
              "      <td>3</td>\n",
              "      <td>10</td>\n",
              "    </tr>\n",
              "    <tr>\n",
              "      <th>1</th>\n",
              "      <td>2016-03-11</td>\n",
              "      <td>11.95</td>\n",
              "      <td>11.75</td>\n",
              "      <td>11.95</td>\n",
              "      <td>11.75</td>\n",
              "      <td>0.18K</td>\n",
              "      <td>1.70</td>\n",
              "      <td>2016</td>\n",
              "      <td>3</td>\n",
              "      <td>11</td>\n",
              "    </tr>\n",
              "    <tr>\n",
              "      <th>2</th>\n",
              "      <td>2016-03-12</td>\n",
              "      <td>12.92</td>\n",
              "      <td>11.95</td>\n",
              "      <td>13.45</td>\n",
              "      <td>11.95</td>\n",
              "      <td>0.83K</td>\n",
              "      <td>8.12</td>\n",
              "      <td>2016</td>\n",
              "      <td>3</td>\n",
              "      <td>12</td>\n",
              "    </tr>\n",
              "    <tr>\n",
              "      <th>3</th>\n",
              "      <td>2016-03-13</td>\n",
              "      <td>15.07</td>\n",
              "      <td>12.92</td>\n",
              "      <td>15.07</td>\n",
              "      <td>12.92</td>\n",
              "      <td>1.30K</td>\n",
              "      <td>16.64</td>\n",
              "      <td>2016</td>\n",
              "      <td>3</td>\n",
              "      <td>13</td>\n",
              "    </tr>\n",
              "    <tr>\n",
              "      <th>4</th>\n",
              "      <td>2016-03-14</td>\n",
              "      <td>12.50</td>\n",
              "      <td>15.07</td>\n",
              "      <td>15.07</td>\n",
              "      <td>11.40</td>\n",
              "      <td>92.18K</td>\n",
              "      <td>-17.05</td>\n",
              "      <td>2016</td>\n",
              "      <td>3</td>\n",
              "      <td>14</td>\n",
              "    </tr>\n",
              "    <tr>\n",
              "      <th>...</th>\n",
              "      <td>...</td>\n",
              "      <td>...</td>\n",
              "      <td>...</td>\n",
              "      <td>...</td>\n",
              "      <td>...</td>\n",
              "      <td>...</td>\n",
              "      <td>...</td>\n",
              "      <td>...</td>\n",
              "      <td>...</td>\n",
              "      <td>...</td>\n",
              "    </tr>\n",
              "    <tr>\n",
              "      <th>2614</th>\n",
              "      <td>2023-05-15</td>\n",
              "      <td>1817.11</td>\n",
              "      <td>1799.36</td>\n",
              "      <td>1845.27</td>\n",
              "      <td>1786.61</td>\n",
              "      <td>405.84K</td>\n",
              "      <td>0.99</td>\n",
              "      <td>2023</td>\n",
              "      <td>5</td>\n",
              "      <td>15</td>\n",
              "    </tr>\n",
              "    <tr>\n",
              "      <th>2615</th>\n",
              "      <td>2023-05-16</td>\n",
              "      <td>1823.98</td>\n",
              "      <td>1817.11</td>\n",
              "      <td>1830.01</td>\n",
              "      <td>1797.60</td>\n",
              "      <td>325.77K</td>\n",
              "      <td>0.38</td>\n",
              "      <td>2023</td>\n",
              "      <td>5</td>\n",
              "      <td>16</td>\n",
              "    </tr>\n",
              "    <tr>\n",
              "      <th>2616</th>\n",
              "      <td>2023-05-17</td>\n",
              "      <td>1821.73</td>\n",
              "      <td>1823.98</td>\n",
              "      <td>1834.44</td>\n",
              "      <td>1785.78</td>\n",
              "      <td>376.26K</td>\n",
              "      <td>-0.12</td>\n",
              "      <td>2023</td>\n",
              "      <td>5</td>\n",
              "      <td>17</td>\n",
              "    </tr>\n",
              "    <tr>\n",
              "      <th>2617</th>\n",
              "      <td>2023-05-18</td>\n",
              "      <td>1800.99</td>\n",
              "      <td>1822.12</td>\n",
              "      <td>1831.51</td>\n",
              "      <td>1774.77</td>\n",
              "      <td>311.24K</td>\n",
              "      <td>-1.14</td>\n",
              "      <td>2023</td>\n",
              "      <td>5</td>\n",
              "      <td>18</td>\n",
              "    </tr>\n",
              "    <tr>\n",
              "      <th>2618</th>\n",
              "      <td>2023-05-19</td>\n",
              "      <td>1807.38</td>\n",
              "      <td>1800.95</td>\n",
              "      <td>1808.94</td>\n",
              "      <td>1796.99</td>\n",
              "      <td>315.13K</td>\n",
              "      <td>0.35</td>\n",
              "      <td>2023</td>\n",
              "      <td>5</td>\n",
              "      <td>19</td>\n",
              "    </tr>\n",
              "  </tbody>\n",
              "</table>\n",
              "<p>2619 rows × 10 columns</p>\n",
              "</div>\n",
              "      <button class=\"colab-df-convert\" onclick=\"convertToInteractive('df-5fa1a3a7-6529-47f4-914a-3c010d07a6e3')\"\n",
              "              title=\"Convert this dataframe to an interactive table.\"\n",
              "              style=\"display:none;\">\n",
              "        \n",
              "  <svg xmlns=\"http://www.w3.org/2000/svg\" height=\"24px\"viewBox=\"0 0 24 24\"\n",
              "       width=\"24px\">\n",
              "    <path d=\"M0 0h24v24H0V0z\" fill=\"none\"/>\n",
              "    <path d=\"M18.56 5.44l.94 2.06.94-2.06 2.06-.94-2.06-.94-.94-2.06-.94 2.06-2.06.94zm-11 1L8.5 8.5l.94-2.06 2.06-.94-2.06-.94L8.5 2.5l-.94 2.06-2.06.94zm10 10l.94 2.06.94-2.06 2.06-.94-2.06-.94-.94-2.06-.94 2.06-2.06.94z\"/><path d=\"M17.41 7.96l-1.37-1.37c-.4-.4-.92-.59-1.43-.59-.52 0-1.04.2-1.43.59L10.3 9.45l-7.72 7.72c-.78.78-.78 2.05 0 2.83L4 21.41c.39.39.9.59 1.41.59.51 0 1.02-.2 1.41-.59l7.78-7.78 2.81-2.81c.8-.78.8-2.07 0-2.86zM5.41 20L4 18.59l7.72-7.72 1.47 1.35L5.41 20z\"/>\n",
              "  </svg>\n",
              "      </button>\n",
              "      \n",
              "  <style>\n",
              "    .colab-df-container {\n",
              "      display:flex;\n",
              "      flex-wrap:wrap;\n",
              "      gap: 12px;\n",
              "    }\n",
              "\n",
              "    .colab-df-convert {\n",
              "      background-color: #E8F0FE;\n",
              "      border: none;\n",
              "      border-radius: 50%;\n",
              "      cursor: pointer;\n",
              "      display: none;\n",
              "      fill: #1967D2;\n",
              "      height: 32px;\n",
              "      padding: 0 0 0 0;\n",
              "      width: 32px;\n",
              "    }\n",
              "\n",
              "    .colab-df-convert:hover {\n",
              "      background-color: #E2EBFA;\n",
              "      box-shadow: 0px 1px 2px rgba(60, 64, 67, 0.3), 0px 1px 3px 1px rgba(60, 64, 67, 0.15);\n",
              "      fill: #174EA6;\n",
              "    }\n",
              "\n",
              "    [theme=dark] .colab-df-convert {\n",
              "      background-color: #3B4455;\n",
              "      fill: #D2E3FC;\n",
              "    }\n",
              "\n",
              "    [theme=dark] .colab-df-convert:hover {\n",
              "      background-color: #434B5C;\n",
              "      box-shadow: 0px 1px 3px 1px rgba(0, 0, 0, 0.15);\n",
              "      filter: drop-shadow(0px 1px 2px rgba(0, 0, 0, 0.3));\n",
              "      fill: #FFFFFF;\n",
              "    }\n",
              "  </style>\n",
              "\n",
              "      <script>\n",
              "        const buttonEl =\n",
              "          document.querySelector('#df-5fa1a3a7-6529-47f4-914a-3c010d07a6e3 button.colab-df-convert');\n",
              "        buttonEl.style.display =\n",
              "          google.colab.kernel.accessAllowed ? 'block' : 'none';\n",
              "\n",
              "        async function convertToInteractive(key) {\n",
              "          const element = document.querySelector('#df-5fa1a3a7-6529-47f4-914a-3c010d07a6e3');\n",
              "          const dataTable =\n",
              "            await google.colab.kernel.invokeFunction('convertToInteractive',\n",
              "                                                     [key], {});\n",
              "          if (!dataTable) return;\n",
              "\n",
              "          const docLinkHtml = 'Like what you see? Visit the ' +\n",
              "            '<a target=\"_blank\" href=https://colab.research.google.com/notebooks/data_table.ipynb>data table notebook</a>'\n",
              "            + ' to learn more about interactive tables.';\n",
              "          element.innerHTML = '';\n",
              "          dataTable['output_type'] = 'display_data';\n",
              "          await google.colab.output.renderOutput(dataTable, element);\n",
              "          const docLink = document.createElement('div');\n",
              "          docLink.innerHTML = docLinkHtml;\n",
              "          element.appendChild(docLink);\n",
              "        }\n",
              "      </script>\n",
              "    </div>\n",
              "  </div>\n",
              "  "
            ]
          },
          "metadata": {},
          "execution_count": 80
        }
      ]
    },
    {
      "cell_type": "code",
      "source": [
        "df = df.dropna()"
      ],
      "metadata": {
        "id": "Vu5PKf3-EXaa"
      },
      "execution_count": null,
      "outputs": []
    },
    {
      "cell_type": "markdown",
      "source": [
        "PLoting the price 📈"
      ],
      "metadata": {
        "id": "X6DIRTRjSypf"
      }
    },
    {
      "cell_type": "code",
      "source": [
        "import matplotlib.pyplot as plt\n",
        "plt.figure(figsize=(12, 6))\n",
        "sns.lineplot(x='Date', y='Price', data=df)\n",
        "plt.title('Ethereum Price Over Time')\n",
        "plt.xlabel('Date')\n",
        "plt.ylabel('Price')\n",
        "plt.show()\n"
      ],
      "metadata": {
        "colab": {
          "base_uri": "https://localhost:8080/",
          "height": 562
        },
        "id": "XyKeN4CkEYt4",
        "outputId": "c33b979c-424a-4f1f-fb32-608668058299"
      },
      "execution_count": null,
      "outputs": [
        {
          "output_type": "display_data",
          "data": {
            "text/plain": [
              "<Figure size 1200x600 with 1 Axes>"
            ],
            "image/png": "[encoded data removed]"
          },
          "metadata": {}
        }
      ]
    },
    {
      "cell_type": "code",
      "source": [
        "df['year'] = df['Date'].dt.year\n",
        "df['month'] = df['Date'].dt.month\n",
        "df['day'] = df['Date'].dt.day\n",
        "df['weekday'] = df['Date'].dt.weekday"
      ],
      "metadata": {
        "id": "JDQyIOW3EnkF"
      },
      "execution_count": null,
      "outputs": []
    },
    {
      "cell_type": "markdown",
      "source": [
        "Selecting and Spliting the model\n",
        "\n",
        "20% test data and 80%train data\n",
        "for model prediction"
      ],
      "metadata": {
        "id": "P_9lYZUpTCby"
      }
    },
    {
      "cell_type": "code",
      "source": [
        "X = df[['year', 'month', 'day', 'weekday']]\n",
        "y = df['Price']\n",
        "\n",
        "from sklearn.model_selection import train_test_split\n",
        "X_train, X_test, y_train, y_test = train_test_split(X, y, test_size=0.2, random_state=42)\n"
      ],
      "metadata": {
        "id": "kh71z5WIFd5r"
      },
      "execution_count": null,
      "outputs": []
    },
    {
      "cell_type": "markdown",
      "source": [
        "Algorithem to choose the best model to predit the data 🦸‍♂️"
      ],
      "metadata": {
        "id": "-p-44rolUAMy"
      }
    },
    {
      "cell_type": "code",
      "source": [
        "!pip install pycaret"
      ],
      "metadata": {
        "colab": {
          "base_uri": "https://localhost:8080/"
        },
        "id": "wjiC7zWmN412",
        "outputId": "6dd24ce0-09ab-4eec-b13a-24cd8d703017"
      },
      "execution_count": null,
      "outputs": [
        {
          "output_type": "stream",
          "name": "stdout",
          "text": [
            "Looking in indexes: https://pypi.org/simple, https://us-python.pkg.dev/colab-wheels/public/simple/\n",
            "Requirement already satisfied: pycaret in /usr/local/lib/python3.10/dist-packages (3.0.2)\n",
            "Requirement already satisfied: ipython>=5.5.0 in /usr/local/lib/python3.10/dist-packages (from pycaret) (7.34.0)\n",
            "Requirement already satisfied: ipywidgets>=7.6.5 in /usr/local/lib/python3.10/dist-packages (from pycaret) (7.7.1)\n",
            "Requirement already satisfied: tqdm>=4.62.0 in /usr/local/lib/python3.10/dist-packages (from pycaret) (4.65.0)\n",
            "Requirement already satisfied: numpy<1.24,>=1.21 in /usr/local/lib/python3.10/dist-packages (from pycaret) (1.22.4)\n",
            "Requirement already satisfied: pandas<2.0.0,>=1.3.0 in /usr/local/lib/python3.10/dist-packages (from pycaret) (1.5.3)\n",
            "Requirement already satisfied: jinja2>=1.2 in /usr/local/lib/python3.10/dist-packages (from pycaret) (3.1.2)\n",
            "Requirement already satisfied: scipy<2.0.0 in /usr/local/lib/python3.10/dist-packages (from pycaret) (1.10.1)\n",
            "Requirement already satisfied: joblib>=1.2.0 in /usr/local/lib/python3.10/dist-packages (from pycaret) (1.2.0)\n",
            "Requirement already satisfied: scikit-learn>=1.0 in /usr/local/lib/python3.10/dist-packages (from pycaret) (1.2.2)\n",
            "Requirement already satisfied: pyod>=1.0.8 in /usr/local/lib/python3.10/dist-packages (from pycaret) (1.0.9)\n",
            "Requirement already satisfied: imbalanced-learn>=0.8.1 in /usr/local/lib/python3.10/dist-packages (from pycaret) (0.10.1)\n",
            "Requirement already satisfied: category-encoders>=2.4.0 in /usr/local/lib/python3.10/dist-packages (from pycaret) (2.6.1)\n",
            "Requirement already satisfied: lightgbm>=3.0.0 in /usr/local/lib/python3.10/dist-packages (from pycaret) (3.3.5)\n",
            "Requirement already satisfied: numba>=0.55.0 in /usr/local/lib/python3.10/dist-packages (from pycaret) (0.56.4)\n",
            "Requirement already satisfied: requests>=2.27.1 in /usr/local/lib/python3.10/dist-packages (from pycaret) (2.27.1)\n",
            "Requirement already satisfied: psutil>=5.9.0 in /usr/local/lib/python3.10/dist-packages (from pycaret) (5.9.5)\n",
            "Requirement already satisfied: markupsafe>=2.0.1 in /usr/local/lib/python3.10/dist-packages (from pycaret) (2.1.2)\n",
            "Requirement already satisfied: importlib-metadata>=4.12.0 in /usr/local/lib/python3.10/dist-packages (from pycaret) (6.6.0)\n",
            "Requirement already satisfied: nbformat>=4.2.0 in /usr/local/lib/python3.10/dist-packages (from pycaret) (5.8.0)\n",
            "Requirement already satisfied: cloudpickle in /usr/local/lib/python3.10/dist-packages (from pycaret) (2.2.1)\n",
            "Requirement already satisfied: deprecation>=2.1.0 in /usr/local/lib/python3.10/dist-packages (from pycaret) (2.1.0)\n",
            "Requirement already satisfied: xxhash in /usr/local/lib/python3.10/dist-packages (from pycaret) (3.2.0)\n",
            "Requirement already satisfied: matplotlib>=3.3.0 in /usr/local/lib/python3.10/dist-packages (from pycaret) (3.7.1)\n",
            "Requirement already satisfied: scikit-plot>=0.3.7 in /usr/local/lib/python3.10/dist-packages (from pycaret) (0.3.7)\n",
            "Requirement already satisfied: yellowbrick>=1.4 in /usr/local/lib/python3.10/dist-packages (from pycaret) (1.5)\n",
            "Requirement already satisfied: plotly>=5.0.0 in /usr/local/lib/python3.10/dist-packages (from pycaret) (5.13.1)\n",
            "Requirement already satisfied: kaleido>=0.2.1 in /usr/local/lib/python3.10/dist-packages (from pycaret) (0.2.1)\n",
            "Requirement already satisfied: schemdraw==0.15 in /usr/local/lib/python3.10/dist-packages (from pycaret) (0.15)\n",
            "Requirement already satisfied: plotly-resampler>=0.8.3.1 in /usr/local/lib/python3.10/dist-packages (from pycaret) (0.8.3.2)\n",
            "Requirement already satisfied: statsmodels>=0.12.1 in /usr/local/lib/python3.10/dist-packages (from pycaret) (0.13.5)\n",
            "Requirement already satisfied: sktime!=0.17.1,<0.17.2,>=0.16.1 in /usr/local/lib/python3.10/dist-packages (from pycaret) (0.17.0)\n",
            "Requirement already satisfied: tbats>=1.1.3 in /usr/local/lib/python3.10/dist-packages (from pycaret) (1.1.3)\n",
            "Requirement already satisfied: pmdarima!=1.8.1,<3.0.0,>=1.8.0 in /usr/local/lib/python3.10/dist-packages (from pycaret) (2.0.3)\n",
            "Requirement already satisfied: wurlitzer in /usr/local/lib/python3.10/dist-packages (from pycaret) (3.0.3)\n",
            "Requirement already satisfied: patsy>=0.5.1 in /usr/local/lib/python3.10/dist-packages (from category-encoders>=2.4.0->pycaret) (0.5.3)\n",
            "Requirement already satisfied: packaging in /usr/local/lib/python3.10/dist-packages (from deprecation>=2.1.0->pycaret) (23.1)\n",
            "Requirement already satisfied: threadpoolctl>=2.0.0 in /usr/local/lib/python3.10/dist-packages (from imbalanced-learn>=0.8.1->pycaret) (3.1.0)\n",
            "Requirement already satisfied: zipp>=0.5 in /usr/local/lib/python3.10/dist-packages (from importlib-metadata>=4.12.0->pycaret) (3.15.0)\n",
            "Requirement already satisfied: setuptools>=18.5 in /usr/local/lib/python3.10/dist-packages (from ipython>=5.5.0->pycaret) (67.7.2)\n",
            "Requirement already satisfied: jedi>=0.16 in /usr/local/lib/python3.10/dist-packages (from ipython>=5.5.0->pycaret) (0.18.2)\n",
            "Requirement already satisfied: decorator in /usr/local/lib/python3.10/dist-packages (from ipython>=5.5.0->pycaret) (4.4.2)\n",
            "Requirement already satisfied: pickleshare in /usr/local/lib/python3.10/dist-packages (from ipython>=5.5.0->pycaret) (0.7.5)\n",
            "Requirement already satisfied: traitlets>=4.2 in /usr/local/lib/python3.10/dist-packages (from ipython>=5.5.0->pycaret) (5.7.1)\n",
            "Requirement already satisfied: prompt-toolkit!=3.0.0,!=3.0.1,<3.1.0,>=2.0.0 in /usr/local/lib/python3.10/dist-packages (from ipython>=5.5.0->pycaret) (3.0.38)\n",
            "Requirement already satisfied: pygments in /usr/local/lib/python3.10/dist-packages (from ipython>=5.5.0->pycaret) (2.14.0)\n",
            "Requirement already satisfied: backcall in /usr/local/lib/python3.10/dist-packages (from ipython>=5.5.0->pycaret) (0.2.0)\n",
            "Requirement already satisfied: matplotlib-inline in /usr/local/lib/python3.10/dist-packages (from ipython>=5.5.0->pycaret) (0.1.6)\n",
            "Requirement already satisfied: pexpect>4.3 in /usr/local/lib/python3.10/dist-packages (from ipython>=5.5.0->pycaret) (4.8.0)\n",
            "Requirement already satisfied: ipykernel>=4.5.1 in /usr/local/lib/python3.10/dist-packages (from ipywidgets>=7.6.5->pycaret) (5.5.6)\n",
            "Requirement already satisfied: ipython-genutils~=0.2.0 in /usr/local/lib/python3.10/dist-packages (from ipywidgets>=7.6.5->pycaret) (0.2.0)\n",
            "Requirement already satisfied: widgetsnbextension~=3.6.0 in /usr/local/lib/python3.10/dist-packages (from ipywidgets>=7.6.5->pycaret) (3.6.4)\n",
            "Requirement already satisfied: jupyterlab-widgets>=1.0.0 in /usr/local/lib/python3.10/dist-packages (from ipywidgets>=7.6.5->pycaret) (3.0.7)\n",
            "Requirement already satisfied: wheel in /usr/local/lib/python3.10/dist-packages (from lightgbm>=3.0.0->pycaret) (0.40.0)\n",
            "Requirement already satisfied: contourpy>=1.0.1 in /usr/local/lib/python3.10/dist-packages (from matplotlib>=3.3.0->pycaret) (1.0.7)\n",
            "Requirement already satisfied: cycler>=0.10 in /usr/local/lib/python3.10/dist-packages (from matplotlib>=3.3.0->pycaret) (0.11.0)\n",
            "Requirement already satisfied: fonttools>=4.22.0 in /usr/local/lib/python3.10/dist-packages (from matplotlib>=3.3.0->pycaret) (4.39.3)\n",
            "Requirement already satisfied: kiwisolver>=1.0.1 in /usr/local/lib/python3.10/dist-packages (from matplotlib>=3.3.0->pycaret) (1.4.4)\n",
            "Requirement already satisfied: pillow>=6.2.0 in /usr/local/lib/python3.10/dist-packages (from matplotlib>=3.3.0->pycaret) (8.4.0)\n",
            "Requirement already satisfied: pyparsing>=2.3.1 in /usr/local/lib/python3.10/dist-packages (from matplotlib>=3.3.0->pycaret) (3.0.9)\n",
            "Requirement already satisfied: python-dateutil>=2.7 in /usr/local/lib/python3.10/dist-packages (from matplotlib>=3.3.0->pycaret) (2.8.2)\n",
            "Requirement already satisfied: fastjsonschema in /usr/local/lib/python3.10/dist-packages (from nbformat>=4.2.0->pycaret) (2.16.3)\n",
            "Requirement already satisfied: jsonschema>=2.6 in /usr/local/lib/python3.10/dist-packages (from nbformat>=4.2.0->pycaret) (4.3.3)\n",
            "Requirement already satisfied: jupyter-core in /usr/local/lib/python3.10/dist-packages (from nbformat>=4.2.0->pycaret) (5.3.0)\n",
            "Requirement already satisfied: llvmlite<0.40,>=0.39.0dev0 in /usr/local/lib/python3.10/dist-packages (from numba>=0.55.0->pycaret) (0.39.1)\n",
            "Requirement already satisfied: pytz>=2020.1 in /usr/local/lib/python3.10/dist-packages (from pandas<2.0.0,>=1.3.0->pycaret) (2022.7.1)\n",
            "Requirement already satisfied: tenacity>=6.2.0 in /usr/local/lib/python3.10/dist-packages (from plotly>=5.0.0->pycaret) (8.2.2)\n",
            "Requirement already satisfied: dash<3.0.0,>=2.2.0 in /usr/local/lib/python3.10/dist-packages (from plotly-resampler>=0.8.3.1->pycaret) (2.9.3)\n",
            "Requirement already satisfied: jupyter-dash>=0.4.2 in /usr/local/lib/python3.10/dist-packages (from plotly-resampler>=0.8.3.1->pycaret) (0.4.2)\n",
            "Requirement already satisfied: orjson<4.0.0,>=3.8.0 in /usr/local/lib/python3.10/dist-packages (from plotly-resampler>=0.8.3.1->pycaret) (3.8.13)\n",
            "Requirement already satisfied: trace-updater>=0.0.8 in /usr/local/lib/python3.10/dist-packages (from plotly-resampler>=0.8.3.1->pycaret) (0.0.9.1)\n",
            "Requirement already satisfied: Cython!=0.29.18,!=0.29.31,>=0.29 in /usr/local/lib/python3.10/dist-packages (from pmdarima!=1.8.1,<3.0.0,>=1.8.0->pycaret) (0.29.34)\n",
            "Requirement already satisfied: urllib3 in /usr/local/lib/python3.10/dist-packages (from pmdarima!=1.8.1,<3.0.0,>=1.8.0->pycaret) (1.26.15)\n",
            "Requirement already satisfied: six in /usr/local/lib/python3.10/dist-packages (from pyod>=1.0.8->pycaret) (1.16.0)\n",
            "Requirement already satisfied: certifi>=2017.4.17 in /usr/local/lib/python3.10/dist-packages (from requests>=2.27.1->pycaret) (2022.12.7)\n",
            "Requirement already satisfied: charset-normalizer~=2.0.0 in /usr/local/lib/python3.10/dist-packages (from requests>=2.27.1->pycaret) (2.0.12)\n",
            "Requirement already satisfied: idna<4,>=2.5 in /usr/local/lib/python3.10/dist-packages (from requests>=2.27.1->pycaret) (3.4)\n",
            "Requirement already satisfied: deprecated>=1.2.13 in /usr/local/lib/python3.10/dist-packages (from sktime!=0.17.1,<0.17.2,>=0.16.1->pycaret) (1.2.13)\n",
            "Requirement already satisfied: Flask>=1.0.4 in /usr/local/lib/python3.10/dist-packages (from dash<3.0.0,>=2.2.0->plotly-resampler>=0.8.3.1->pycaret) (2.2.4)\n",
            "Requirement already satisfied: dash-html-components==2.0.0 in /usr/local/lib/python3.10/dist-packages (from dash<3.0.0,>=2.2.0->plotly-resampler>=0.8.3.1->pycaret) (2.0.0)\n",
            "Requirement already satisfied: dash-core-components==2.0.0 in /usr/local/lib/python3.10/dist-packages (from dash<3.0.0,>=2.2.0->plotly-resampler>=0.8.3.1->pycaret) (2.0.0)\n",
            "Requirement already satisfied: dash-table==5.0.0 in /usr/local/lib/python3.10/dist-packages (from dash<3.0.0,>=2.2.0->plotly-resampler>=0.8.3.1->pycaret) (5.0.0)\n",
            "Requirement already satisfied: wrapt<2,>=1.10 in /usr/local/lib/python3.10/dist-packages (from deprecated>=1.2.13->sktime!=0.17.1,<0.17.2,>=0.16.1->pycaret) (1.14.1)\n",
            "Requirement already satisfied: jupyter-client in /usr/local/lib/python3.10/dist-packages (from ipykernel>=4.5.1->ipywidgets>=7.6.5->pycaret) (6.1.12)\n",
            "Requirement already satisfied: tornado>=4.2 in /usr/local/lib/python3.10/dist-packages (from ipykernel>=4.5.1->ipywidgets>=7.6.5->pycaret) (6.3.1)\n",
            "Requirement already satisfied: parso<0.9.0,>=0.8.0 in /usr/local/lib/python3.10/dist-packages (from jedi>=0.16->ipython>=5.5.0->pycaret) (0.8.3)\n",
            "Requirement already satisfied: attrs>=17.4.0 in /usr/local/lib/python3.10/dist-packages (from jsonschema>=2.6->nbformat>=4.2.0->pycaret) (23.1.0)\n",
            "Requirement already satisfied: pyrsistent!=0.17.0,!=0.17.1,!=0.17.2,>=0.14.0 in /usr/local/lib/python3.10/dist-packages (from jsonschema>=2.6->nbformat>=4.2.0->pycaret) (0.19.3)\n",
            "Requirement already satisfied: retrying in /usr/local/lib/python3.10/dist-packages (from jupyter-dash>=0.4.2->plotly-resampler>=0.8.3.1->pycaret) (1.3.4)\n",
            "Requirement already satisfied: ansi2html in /usr/local/lib/python3.10/dist-packages (from jupyter-dash>=0.4.2->plotly-resampler>=0.8.3.1->pycaret) (1.8.0)\n",
            "Requirement already satisfied: nest-asyncio in /usr/local/lib/python3.10/dist-packages (from jupyter-dash>=0.4.2->plotly-resampler>=0.8.3.1->pycaret) (1.5.6)\n",
            "Requirement already satisfied: ptyprocess>=0.5 in /usr/local/lib/python3.10/dist-packages (from pexpect>4.3->ipython>=5.5.0->pycaret) (0.7.0)\n",
            "Requirement already satisfied: wcwidth in /usr/local/lib/python3.10/dist-packages (from prompt-toolkit!=3.0.0,!=3.0.1,<3.1.0,>=2.0.0->ipython>=5.5.0->pycaret) (0.2.6)\n",
            "Requirement already satisfied: notebook>=4.4.1 in /usr/local/lib/python3.10/dist-packages (from widgetsnbextension~=3.6.0->ipywidgets>=7.6.5->pycaret) (6.4.8)\n",
            "Requirement already satisfied: platformdirs>=2.5 in /usr/local/lib/python3.10/dist-packages (from jupyter-core->nbformat>=4.2.0->pycaret) (3.3.0)\n",
            "Requirement already satisfied: Werkzeug>=2.2.2 in /usr/local/lib/python3.10/dist-packages (from Flask>=1.0.4->dash<3.0.0,>=2.2.0->plotly-resampler>=0.8.3.1->pycaret) (2.3.0)\n",
            "Requirement already satisfied: itsdangerous>=2.0 in /usr/local/lib/python3.10/dist-packages (from Flask>=1.0.4->dash<3.0.0,>=2.2.0->plotly-resampler>=0.8.3.1->pycaret) (2.1.2)\n",
            "Requirement already satisfied: click>=8.0 in /usr/local/lib/python3.10/dist-packages (from Flask>=1.0.4->dash<3.0.0,>=2.2.0->plotly-resampler>=0.8.3.1->pycaret) (8.1.3)\n",
            "Requirement already satisfied: pyzmq>=17 in /usr/local/lib/python3.10/dist-packages (from notebook>=4.4.1->widgetsnbextension~=3.6.0->ipywidgets>=7.6.5->pycaret) (23.2.1)\n",
            "Requirement already satisfied: argon2-cffi in /usr/local/lib/python3.10/dist-packages (from notebook>=4.4.1->widgetsnbextension~=3.6.0->ipywidgets>=7.6.5->pycaret) (21.3.0)\n",
            "Requirement already satisfied: nbconvert in /usr/local/lib/python3.10/dist-packages (from notebook>=4.4.1->widgetsnbextension~=3.6.0->ipywidgets>=7.6.5->pycaret) (6.5.4)\n",
            "Requirement already satisfied: Send2Trash>=1.8.0 in /usr/local/lib/python3.10/dist-packages (from notebook>=4.4.1->widgetsnbextension~=3.6.0->ipywidgets>=7.6.5->pycaret) (1.8.0)\n",
            "Requirement already satisfied: terminado>=0.8.3 in /usr/local/lib/python3.10/dist-packages (from notebook>=4.4.1->widgetsnbextension~=3.6.0->ipywidgets>=7.6.5->pycaret) (0.17.1)\n",
            "Requirement already satisfied: prometheus-client in /usr/local/lib/python3.10/dist-packages (from notebook>=4.4.1->widgetsnbextension~=3.6.0->ipywidgets>=7.6.5->pycaret) (0.16.0)\n",
            "Requirement already satisfied: argon2-cffi-bindings in /usr/local/lib/python3.10/dist-packages (from argon2-cffi->notebook>=4.4.1->widgetsnbextension~=3.6.0->ipywidgets>=7.6.5->pycaret) (21.2.0)\n",
            "Requirement already satisfied: lxml in /usr/local/lib/python3.10/dist-packages (from nbconvert->notebook>=4.4.1->widgetsnbextension~=3.6.0->ipywidgets>=7.6.5->pycaret) (4.9.2)\n",
            "Requirement already satisfied: beautifulsoup4 in /usr/local/lib/python3.10/dist-packages (from nbconvert->notebook>=4.4.1->widgetsnbextension~=3.6.0->ipywidgets>=7.6.5->pycaret) (4.11.2)\n",
            "Requirement already satisfied: bleach in /usr/local/lib/python3.10/dist-packages (from nbconvert->notebook>=4.4.1->widgetsnbextension~=3.6.0->ipywidgets>=7.6.5->pycaret) (6.0.0)\n",
            "Requirement already satisfied: defusedxml in /usr/local/lib/python3.10/dist-packages (from nbconvert->notebook>=4.4.1->widgetsnbextension~=3.6.0->ipywidgets>=7.6.5->pycaret) (0.7.1)\n",
            "Requirement already satisfied: entrypoints>=0.2.2 in /usr/local/lib/python3.10/dist-packages (from nbconvert->notebook>=4.4.1->widgetsnbextension~=3.6.0->ipywidgets>=7.6.5->pycaret) (0.4)\n",
            "Requirement already satisfied: jupyterlab-pygments in /usr/local/lib/python3.10/dist-packages (from nbconvert->notebook>=4.4.1->widgetsnbextension~=3.6.0->ipywidgets>=7.6.5->pycaret) (0.2.2)\n",
            "Requirement already satisfied: mistune<2,>=0.8.1 in /usr/local/lib/python3.10/dist-packages (from nbconvert->notebook>=4.4.1->widgetsnbextension~=3.6.0->ipywidgets>=7.6.5->pycaret) (0.8.4)\n",
            "Requirement already satisfied: nbclient>=0.5.0 in /usr/local/lib/python3.10/dist-packages (from nbconvert->notebook>=4.4.1->widgetsnbextension~=3.6.0->ipywidgets>=7.6.5->pycaret) (0.7.4)\n",
            "Requirement already satisfied: pandocfilters>=1.4.1 in /usr/local/lib/python3.10/dist-packages (from nbconvert->notebook>=4.4.1->widgetsnbextension~=3.6.0->ipywidgets>=7.6.5->pycaret) (1.5.0)\n",
            "Requirement already satisfied: tinycss2 in /usr/local/lib/python3.10/dist-packages (from nbconvert->notebook>=4.4.1->widgetsnbextension~=3.6.0->ipywidgets>=7.6.5->pycaret) (1.2.1)\n",
            "Requirement already satisfied: cffi>=1.0.1 in /usr/local/lib/python3.10/dist-packages (from argon2-cffi-bindings->argon2-cffi->notebook>=4.4.1->widgetsnbextension~=3.6.0->ipywidgets>=7.6.5->pycaret) (1.15.1)\n",
            "Requirement already satisfied: soupsieve>1.2 in /usr/local/lib/python3.10/dist-packages (from beautifulsoup4->nbconvert->notebook>=4.4.1->widgetsnbextension~=3.6.0->ipywidgets>=7.6.5->pycaret) (2.4.1)\n",
            "Requirement already satisfied: webencodings in /usr/local/lib/python3.10/dist-packages (from bleach->nbconvert->notebook>=4.4.1->widgetsnbextension~=3.6.0->ipywidgets>=7.6.5->pycaret) (0.5.1)\n",
            "Requirement already satisfied: pycparser in /usr/local/lib/python3.10/dist-packages (from cffi>=1.0.1->argon2-cffi-bindings->argon2-cffi->notebook>=4.4.1->widgetsnbextension~=3.6.0->ipywidgets>=7.6.5->pycaret) (2.21)\n"
          ]
        }
      ]
    },
    {
      "cell_type": "code",
      "source": [
        "from pycaret.regression import *\n",
        "exp_name = setup(data=df[['year', 'month', 'day', 'weekday','Price']],target=\"Price\")\n",
        "best_model = compare_models()"
      ],
      "metadata": {
        "colab": {
          "base_uri": "https://localhost:8080/",
          "height": 1000,
          "referenced_widgets": [
            "5bf31aa729c24675ab33f5108af6ecea",
            "d447b5e250074a6a935e9c642144c7c3",
            "4abfa7bdfa2a4dfdb7b848408f582fea",
            "ce8e8e27f9cb44429c24a3f26da09c0e",
            "3cc194d97551487992d221d0cd2f8d96",
            "30dc2ca390ff409ea71a7be4905f2a06",
            "75842baf79f94436ac6daa586cd339f0",
            "cc7ead3e3d1b4f09b3645b5eadafa5b5",
            "0651f0f595504c5890c036558ddd988d",
            "dc950bb791274f41a7ff605a1a2209b5",
            "741bfc3c8e8d4cd38ceb2e2b3b38ebef"
          ]
        },
        "id": "mLWFYAj-N75m",
        "outputId": "5a0cc074-9987-4986-8142-ea98f7f84860"
      },
      "execution_count": null,
      "outputs": [
        {
          "output_type": "display_data",
          "data": {
            "text/plain": [
              "<pandas.io.formats.style.Styler at 0x7f331ed357b0>"
            ],
            "text/html": [
              "<style type=\"text/css\">\n",
              "#T_63316_row8_col1 {\n",
              "  background-color: lightgreen;\n",
              "}\n",
              "</style>\n",
              "<table id=\"T_63316\" class=\"dataframe\">\n",
              "  <thead>\n",
              "    <tr>\n",
              "      <th class=\"blank level0\" >&nbsp;</th>\n",
              "      <th id=\"T_63316_level0_col0\" class=\"col_heading level0 col0\" >Description</th>\n",
              "      <th id=\"T_63316_level0_col1\" class=\"col_heading level0 col1\" >Value</th>\n",
              "    </tr>\n",
              "  </thead>\n",
              "  <tbody>\n",
              "    <tr>\n",
              "      <th id=\"T_63316_level0_row0\" class=\"row_heading level0 row0\" >0</th>\n",
              "      <td id=\"T_63316_row0_col0\" class=\"data row0 col0\" >Session id</td>\n",
              "      <td id=\"T_63316_row0_col1\" class=\"data row0 col1\" >561</td>\n",
              "    </tr>\n",
              "    <tr>\n",
              "      <th id=\"T_63316_level0_row1\" class=\"row_heading level0 row1\" >1</th>\n",
              "      <td id=\"T_63316_row1_col0\" class=\"data row1 col0\" >Target</td>\n",
              "      <td id=\"T_63316_row1_col1\" class=\"data row1 col1\" >Price</td>\n",
              "    </tr>\n",
              "    <tr>\n",
              "      <th id=\"T_63316_level0_row2\" class=\"row_heading level0 row2\" >2</th>\n",
              "      <td id=\"T_63316_row2_col0\" class=\"data row2 col0\" >Target type</td>\n",
              "      <td id=\"T_63316_row2_col1\" class=\"data row2 col1\" >Regression</td>\n",
              "    </tr>\n",
              "    <tr>\n",
              "      <th id=\"T_63316_level0_row3\" class=\"row_heading level0 row3\" >3</th>\n",
              "      <td id=\"T_63316_row3_col0\" class=\"data row3 col0\" >Original data shape</td>\n",
              "      <td id=\"T_63316_row3_col1\" class=\"data row3 col1\" >(2612, 5)</td>\n",
              "    </tr>\n",
              "    <tr>\n",
              "      <th id=\"T_63316_level0_row4\" class=\"row_heading level0 row4\" >4</th>\n",
              "      <td id=\"T_63316_row4_col0\" class=\"data row4 col0\" >Transformed data shape</td>\n",
              "      <td id=\"T_63316_row4_col1\" class=\"data row4 col1\" >(2612, 5)</td>\n",
              "    </tr>\n",
              "    <tr>\n",
              "      <th id=\"T_63316_level0_row5\" class=\"row_heading level0 row5\" >5</th>\n",
              "      <td id=\"T_63316_row5_col0\" class=\"data row5 col0\" >Transformed train set shape</td>\n",
              "      <td id=\"T_63316_row5_col1\" class=\"data row5 col1\" >(1828, 5)</td>\n",
              "    </tr>\n",
              "    <tr>\n",
              "      <th id=\"T_63316_level0_row6\" class=\"row_heading level0 row6\" >6</th>\n",
              "      <td id=\"T_63316_row6_col0\" class=\"data row6 col0\" >Transformed test set shape</td>\n",
              "      <td id=\"T_63316_row6_col1\" class=\"data row6 col1\" >(784, 5)</td>\n",
              "    </tr>\n",
              "    <tr>\n",
              "      <th id=\"T_63316_level0_row7\" class=\"row_heading level0 row7\" >7</th>\n",
              "      <td id=\"T_63316_row7_col0\" class=\"data row7 col0\" >Numeric features</td>\n",
              "      <td id=\"T_63316_row7_col1\" class=\"data row7 col1\" >4</td>\n",
              "    </tr>\n",
              "    <tr>\n",
              "      <th id=\"T_63316_level0_row8\" class=\"row_heading level0 row8\" >8</th>\n",
              "      <td id=\"T_63316_row8_col0\" class=\"data row8 col0\" >Preprocess</td>\n",
              "      <td id=\"T_63316_row8_col1\" class=\"data row8 col1\" >True</td>\n",
              "    </tr>\n",
              "    <tr>\n",
              "      <th id=\"T_63316_level0_row9\" class=\"row_heading level0 row9\" >9</th>\n",
              "      <td id=\"T_63316_row9_col0\" class=\"data row9 col0\" >Imputation type</td>\n",
              "      <td id=\"T_63316_row9_col1\" class=\"data row9 col1\" >simple</td>\n",
              "    </tr>\n",
              "    <tr>\n",
              "      <th id=\"T_63316_level0_row10\" class=\"row_heading level0 row10\" >10</th>\n",
              "      <td id=\"T_63316_row10_col0\" class=\"data row10 col0\" >Numeric imputation</td>\n",
              "      <td id=\"T_63316_row10_col1\" class=\"data row10 col1\" >mean</td>\n",
              "    </tr>\n",
              "    <tr>\n",
              "      <th id=\"T_63316_level0_row11\" class=\"row_heading level0 row11\" >11</th>\n",
              "      <td id=\"T_63316_row11_col0\" class=\"data row11 col0\" >Categorical imputation</td>\n",
              "      <td id=\"T_63316_row11_col1\" class=\"data row11 col1\" >mode</td>\n",
              "    </tr>\n",
              "    <tr>\n",
              "      <th id=\"T_63316_level0_row12\" class=\"row_heading level0 row12\" >12</th>\n",
              "      <td id=\"T_63316_row12_col0\" class=\"data row12 col0\" >Fold Generator</td>\n",
              "      <td id=\"T_63316_row12_col1\" class=\"data row12 col1\" >KFold</td>\n",
              "    </tr>\n",
              "    <tr>\n",
              "      <th id=\"T_63316_level0_row13\" class=\"row_heading level0 row13\" >13</th>\n",
              "      <td id=\"T_63316_row13_col0\" class=\"data row13 col0\" >Fold Number</td>\n",
              "      <td id=\"T_63316_row13_col1\" class=\"data row13 col1\" >10</td>\n",
              "    </tr>\n",
              "    <tr>\n",
              "      <th id=\"T_63316_level0_row14\" class=\"row_heading level0 row14\" >14</th>\n",
              "      <td id=\"T_63316_row14_col0\" class=\"data row14 col0\" >CPU Jobs</td>\n",
              "      <td id=\"T_63316_row14_col1\" class=\"data row14 col1\" >-1</td>\n",
              "    </tr>\n",
              "    <tr>\n",
              "      <th id=\"T_63316_level0_row15\" class=\"row_heading level0 row15\" >15</th>\n",
              "      <td id=\"T_63316_row15_col0\" class=\"data row15 col0\" >Use GPU</td>\n",
              "      <td id=\"T_63316_row15_col1\" class=\"data row15 col1\" >False</td>\n",
              "    </tr>\n",
              "    <tr>\n",
              "      <th id=\"T_63316_level0_row16\" class=\"row_heading level0 row16\" >16</th>\n",
              "      <td id=\"T_63316_row16_col0\" class=\"data row16 col0\" >Log Experiment</td>\n",
              "      <td id=\"T_63316_row16_col1\" class=\"data row16 col1\" >False</td>\n",
              "    </tr>\n",
              "    <tr>\n",
              "      <th id=\"T_63316_level0_row17\" class=\"row_heading level0 row17\" >17</th>\n",
              "      <td id=\"T_63316_row17_col0\" class=\"data row17 col0\" >Experiment Name</td>\n",
              "      <td id=\"T_63316_row17_col1\" class=\"data row17 col1\" >reg-default-name</td>\n",
              "    </tr>\n",
              "    <tr>\n",
              "      <th id=\"T_63316_level0_row18\" class=\"row_heading level0 row18\" >18</th>\n",
              "      <td id=\"T_63316_row18_col0\" class=\"data row18 col0\" >USI</td>\n",
              "      <td id=\"T_63316_row18_col1\" class=\"data row18 col1\" >de5d</td>\n",
              "    </tr>\n",
              "  </tbody>\n",
              "</table>\n"
            ]
          },
          "metadata": {}
        },
        {
          "output_type": "display_data",
          "data": {
            "text/plain": [
              "<IPython.core.display.HTML object>"
            ],
            "text/html": []
          },
          "metadata": {}
        },
        {
          "output_type": "display_data",
          "data": {
            "text/plain": [
              "<pandas.io.formats.style.Styler at 0x7f3325da4640>"
            ],
            "text/html": [
              "<style type=\"text/css\">\n",
              "#T_9fca5 th {\n",
              "  text-align: left;\n",
              "}\n",
              "#T_9fca5_row0_col0, #T_9fca5_row1_col0, #T_9fca5_row1_col1, #T_9fca5_row1_col2, #T_9fca5_row1_col3, #T_9fca5_row1_col4, #T_9fca5_row1_col5, #T_9fca5_row1_col6, #T_9fca5_row2_col0, #T_9fca5_row2_col1, #T_9fca5_row2_col2, #T_9fca5_row2_col3, #T_9fca5_row2_col4, #T_9fca5_row2_col5, #T_9fca5_row2_col6, #T_9fca5_row3_col0, #T_9fca5_row3_col1, #T_9fca5_row3_col2, #T_9fca5_row3_col3, #T_9fca5_row3_col4, #T_9fca5_row3_col5, #T_9fca5_row3_col6, #T_9fca5_row4_col0, #T_9fca5_row4_col1, #T_9fca5_row4_col2, #T_9fca5_row4_col3, #T_9fca5_row4_col4, #T_9fca5_row4_col5, #T_9fca5_row4_col6, #T_9fca5_row5_col0, #T_9fca5_row5_col1, #T_9fca5_row5_col2, #T_9fca5_row5_col3, #T_9fca5_row5_col4, #T_9fca5_row5_col5, #T_9fca5_row5_col6, #T_9fca5_row6_col0, #T_9fca5_row6_col1, #T_9fca5_row6_col2, #T_9fca5_row6_col3, #T_9fca5_row6_col4, #T_9fca5_row6_col5, #T_9fca5_row6_col6, #T_9fca5_row7_col0, #T_9fca5_row7_col1, #T_9fca5_row7_col2, #T_9fca5_row7_col3, #T_9fca5_row7_col4, #T_9fca5_row7_col5, #T_9fca5_row7_col6, #T_9fca5_row8_col0, #T_9fca5_row8_col1, #T_9fca5_row8_col2, #T_9fca5_row8_col3, #T_9fca5_row8_col4, #T_9fca5_row8_col5, #T_9fca5_row8_col6, #T_9fca5_row9_col0, #T_9fca5_row9_col1, #T_9fca5_row9_col2, #T_9fca5_row9_col3, #T_9fca5_row9_col4, #T_9fca5_row9_col5, #T_9fca5_row9_col6, #T_9fca5_row10_col0, #T_9fca5_row10_col1, #T_9fca5_row10_col2, #T_9fca5_row10_col3, #T_9fca5_row10_col4, #T_9fca5_row10_col5, #T_9fca5_row10_col6, #T_9fca5_row11_col0, #T_9fca5_row11_col1, #T_9fca5_row11_col2, #T_9fca5_row11_col3, #T_9fca5_row11_col4, #T_9fca5_row11_col5, #T_9fca5_row11_col6, #T_9fca5_row12_col0, #T_9fca5_row12_col1, #T_9fca5_row12_col2, #T_9fca5_row12_col3, #T_9fca5_row12_col4, #T_9fca5_row12_col5, #T_9fca5_row12_col6, #T_9fca5_row13_col0, #T_9fca5_row13_col1, #T_9fca5_row13_col2, #T_9fca5_row13_col3, #T_9fca5_row13_col4, #T_9fca5_row13_col5, #T_9fca5_row13_col6, #T_9fca5_row14_col0, #T_9fca5_row14_col1, #T_9fca5_row14_col2, #T_9fca5_row14_col3, #T_9fca5_row14_col4, #T_9fca5_row14_col5, #T_9fca5_row14_col6, #T_9fca5_row15_col0, #T_9fca5_row15_col1, #T_9fca5_row15_col2, #T_9fca5_row15_col3, #T_9fca5_row15_col4, #T_9fca5_row15_col5, #T_9fca5_row15_col6, #T_9fca5_row16_col0, #T_9fca5_row16_col1, #T_9fca5_row16_col2, #T_9fca5_row16_col3, #T_9fca5_row16_col4, #T_9fca5_row16_col5, #T_9fca5_row16_col6, #T_9fca5_row17_col0, #T_9fca5_row17_col1, #T_9fca5_row17_col2, #T_9fca5_row17_col3, #T_9fca5_row17_col4, #T_9fca5_row17_col5, #T_9fca5_row17_col6, #T_9fca5_row18_col0, #T_9fca5_row18_col1, #T_9fca5_row18_col2, #T_9fca5_row18_col3, #T_9fca5_row18_col4, #T_9fca5_row18_col5, #T_9fca5_row18_col6 {\n",
              "  text-align: left;\n",
              "}\n",
              "#T_9fca5_row0_col1, #T_9fca5_row0_col2, #T_9fca5_row0_col3, #T_9fca5_row0_col4, #T_9fca5_row0_col5, #T_9fca5_row0_col6 {\n",
              "  text-align: left;\n",
              "  background-color: yellow;\n",
              "}\n",
              "#T_9fca5_row0_col7, #T_9fca5_row1_col7, #T_9fca5_row2_col7, #T_9fca5_row3_col7, #T_9fca5_row4_col7, #T_9fca5_row5_col7, #T_9fca5_row6_col7, #T_9fca5_row7_col7, #T_9fca5_row8_col7, #T_9fca5_row9_col7, #T_9fca5_row10_col7, #T_9fca5_row12_col7, #T_9fca5_row13_col7, #T_9fca5_row14_col7, #T_9fca5_row15_col7, #T_9fca5_row16_col7, #T_9fca5_row17_col7, #T_9fca5_row18_col7 {\n",
              "  text-align: left;\n",
              "  background-color: lightgrey;\n",
              "}\n",
              "#T_9fca5_row11_col7 {\n",
              "  text-align: left;\n",
              "  background-color: yellow;\n",
              "  background-color: lightgrey;\n",
              "}\n",
              "</style>\n",
              "<table id=\"T_9fca5\" class=\"dataframe\">\n",
              "  <thead>\n",
              "    <tr>\n",
              "      <th class=\"blank level0\" >&nbsp;</th>\n",
              "      <th id=\"T_9fca5_level0_col0\" class=\"col_heading level0 col0\" >Model</th>\n",
              "      <th id=\"T_9fca5_level0_col1\" class=\"col_heading level0 col1\" >MAE</th>\n",
              "      <th id=\"T_9fca5_level0_col2\" class=\"col_heading level0 col2\" >MSE</th>\n",
              "      <th id=\"T_9fca5_level0_col3\" class=\"col_heading level0 col3\" >RMSE</th>\n",
              "      <th id=\"T_9fca5_level0_col4\" class=\"col_heading level0 col4\" >R2</th>\n",
              "      <th id=\"T_9fca5_level0_col5\" class=\"col_heading level0 col5\" >RMSLE</th>\n",
              "      <th id=\"T_9fca5_level0_col6\" class=\"col_heading level0 col6\" >MAPE</th>\n",
              "      <th id=\"T_9fca5_level0_col7\" class=\"col_heading level0 col7\" >TT (Sec)</th>\n",
              "    </tr>\n",
              "  </thead>\n",
              "  <tbody>\n",
              "    <tr>\n",
              "      <th id=\"T_9fca5_level0_row0\" class=\"row_heading level0 row0\" >et</th>\n",
              "      <td id=\"T_9fca5_row0_col0\" class=\"data row0 col0\" >Extra Trees Regressor</td>\n",
              "      <td id=\"T_9fca5_row0_col1\" class=\"data row0 col1\" >34.0342</td>\n",
              "      <td id=\"T_9fca5_row0_col2\" class=\"data row0 col2\" >4716.7753</td>\n",
              "      <td id=\"T_9fca5_row0_col3\" class=\"data row0 col3\" >68.2647</td>\n",
              "      <td id=\"T_9fca5_row0_col4\" class=\"data row0 col4\" >0.9962</td>\n",
              "      <td id=\"T_9fca5_row0_col5\" class=\"data row0 col5\" >0.0541</td>\n",
              "      <td id=\"T_9fca5_row0_col6\" class=\"data row0 col6\" >0.0390</td>\n",
              "      <td id=\"T_9fca5_row0_col7\" class=\"data row0 col7\" >0.4950</td>\n",
              "    </tr>\n",
              "    <tr>\n",
              "      <th id=\"T_9fca5_level0_row1\" class=\"row_heading level0 row1\" >rf</th>\n",
              "      <td id=\"T_9fca5_row1_col0\" class=\"data row1 col0\" >Random Forest Regressor</td>\n",
              "      <td id=\"T_9fca5_row1_col1\" class=\"data row1 col1\" >40.9409</td>\n",
              "      <td id=\"T_9fca5_row1_col2\" class=\"data row1 col2\" >7042.7473</td>\n",
              "      <td id=\"T_9fca5_row1_col3\" class=\"data row1 col3\" >82.9239</td>\n",
              "      <td id=\"T_9fca5_row1_col4\" class=\"data row1 col4\" >0.9944</td>\n",
              "      <td id=\"T_9fca5_row1_col5\" class=\"data row1 col5\" >0.0695</td>\n",
              "      <td id=\"T_9fca5_row1_col6\" class=\"data row1 col6\" >0.0486</td>\n",
              "      <td id=\"T_9fca5_row1_col7\" class=\"data row1 col7\" >0.7420</td>\n",
              "    </tr>\n",
              "    <tr>\n",
              "      <th id=\"T_9fca5_level0_row2\" class=\"row_heading level0 row2\" >xgboost</th>\n",
              "      <td id=\"T_9fca5_row2_col0\" class=\"data row2 col0\" >Extreme Gradient Boosting</td>\n",
              "      <td id=\"T_9fca5_row2_col1\" class=\"data row2 col1\" >56.8203</td>\n",
              "      <td id=\"T_9fca5_row2_col2\" class=\"data row2 col2\" >9158.4221</td>\n",
              "      <td id=\"T_9fca5_row2_col3\" class=\"data row2 col3\" >95.0174</td>\n",
              "      <td id=\"T_9fca5_row2_col4\" class=\"data row2 col4\" >0.9927</td>\n",
              "      <td id=\"T_9fca5_row2_col5\" class=\"data row2 col5\" >0.3540</td>\n",
              "      <td id=\"T_9fca5_row2_col6\" class=\"data row2 col6\" >0.2561</td>\n",
              "      <td id=\"T_9fca5_row2_col7\" class=\"data row2 col7\" >0.2390</td>\n",
              "    </tr>\n",
              "    <tr>\n",
              "      <th id=\"T_9fca5_level0_row3\" class=\"row_heading level0 row3\" >dt</th>\n",
              "      <td id=\"T_9fca5_row3_col0\" class=\"data row3 col0\" >Decision Tree Regressor</td>\n",
              "      <td id=\"T_9fca5_row3_col1\" class=\"data row3 col1\" >44.3386</td>\n",
              "      <td id=\"T_9fca5_row3_col2\" class=\"data row3 col2\" >10884.8504</td>\n",
              "      <td id=\"T_9fca5_row3_col3\" class=\"data row3 col3\" >100.4504</td>\n",
              "      <td id=\"T_9fca5_row3_col4\" class=\"data row3 col4\" >0.9913</td>\n",
              "      <td id=\"T_9fca5_row3_col5\" class=\"data row3 col5\" >0.0770</td>\n",
              "      <td id=\"T_9fca5_row3_col6\" class=\"data row3 col6\" >0.0493</td>\n",
              "      <td id=\"T_9fca5_row3_col7\" class=\"data row3 col7\" >0.0760</td>\n",
              "    </tr>\n",
              "    <tr>\n",
              "      <th id=\"T_9fca5_level0_row4\" class=\"row_heading level0 row4\" >lightgbm</th>\n",
              "      <td id=\"T_9fca5_row4_col0\" class=\"data row4 col0\" >Light Gradient Boosting Machine</td>\n",
              "      <td id=\"T_9fca5_row4_col1\" class=\"data row4 col1\" >68.8340</td>\n",
              "      <td id=\"T_9fca5_row4_col2\" class=\"data row4 col2\" >13893.0018</td>\n",
              "      <td id=\"T_9fca5_row4_col3\" class=\"data row4 col3\" >117.3418</td>\n",
              "      <td id=\"T_9fca5_row4_col4\" class=\"data row4 col4\" >0.9889</td>\n",
              "      <td id=\"T_9fca5_row4_col5\" class=\"data row4 col5\" >0.3688</td>\n",
              "      <td id=\"T_9fca5_row4_col6\" class=\"data row4 col6\" >0.3024</td>\n",
              "      <td id=\"T_9fca5_row4_col7\" class=\"data row4 col7\" >0.1920</td>\n",
              "    </tr>\n",
              "    <tr>\n",
              "      <th id=\"T_9fca5_level0_row5\" class=\"row_heading level0 row5\" >gbr</th>\n",
              "      <td id=\"T_9fca5_row5_col0\" class=\"data row5 col0\" >Gradient Boosting Regressor</td>\n",
              "      <td id=\"T_9fca5_row5_col1\" class=\"data row5 col1\" >123.1932</td>\n",
              "      <td id=\"T_9fca5_row5_col2\" class=\"data row5 col2\" >41029.4447</td>\n",
              "      <td id=\"T_9fca5_row5_col3\" class=\"data row5 col3\" >201.7097</td>\n",
              "      <td id=\"T_9fca5_row5_col4\" class=\"data row5 col4\" >0.9673</td>\n",
              "      <td id=\"T_9fca5_row5_col5\" class=\"data row5 col5\" >0.5963</td>\n",
              "      <td id=\"T_9fca5_row5_col6\" class=\"data row5 col6\" >0.7330</td>\n",
              "      <td id=\"T_9fca5_row5_col7\" class=\"data row5 col7\" >0.3930</td>\n",
              "    </tr>\n",
              "    <tr>\n",
              "      <th id=\"T_9fca5_level0_row6\" class=\"row_heading level0 row6\" >ada</th>\n",
              "      <td id=\"T_9fca5_row6_col0\" class=\"data row6 col0\" >AdaBoost Regressor</td>\n",
              "      <td id=\"T_9fca5_row6_col1\" class=\"data row6 col1\" >231.7203</td>\n",
              "      <td id=\"T_9fca5_row6_col2\" class=\"data row6 col2\" >119040.5320</td>\n",
              "      <td id=\"T_9fca5_row6_col3\" class=\"data row6 col3\" >344.2691</td>\n",
              "      <td id=\"T_9fca5_row6_col4\" class=\"data row6 col4\" >0.9051</td>\n",
              "      <td id=\"T_9fca5_row6_col5\" class=\"data row6 col5\" >0.6567</td>\n",
              "      <td id=\"T_9fca5_row6_col6\" class=\"data row6 col6\" >0.9272</td>\n",
              "      <td id=\"T_9fca5_row6_col7\" class=\"data row6 col7\" >0.1100</td>\n",
              "    </tr>\n",
              "    <tr>\n",
              "      <th id=\"T_9fca5_level0_row7\" class=\"row_heading level0 row7\" >knn</th>\n",
              "      <td id=\"T_9fca5_row7_col0\" class=\"data row7 col0\" >K Neighbors Regressor</td>\n",
              "      <td id=\"T_9fca5_row7_col1\" class=\"data row7 col1\" >548.1125</td>\n",
              "      <td id=\"T_9fca5_row7_col2\" class=\"data row7 col2\" >669082.1562</td>\n",
              "      <td id=\"T_9fca5_row7_col3\" class=\"data row7 col3\" >817.3166</td>\n",
              "      <td id=\"T_9fca5_row7_col4\" class=\"data row7 col4\" >0.4668</td>\n",
              "      <td id=\"T_9fca5_row7_col5\" class=\"data row7 col5\" >1.2478</td>\n",
              "      <td id=\"T_9fca5_row7_col6\" class=\"data row7 col6\" >3.2311</td>\n",
              "      <td id=\"T_9fca5_row7_col7\" class=\"data row7 col7\" >0.0590</td>\n",
              "    </tr>\n",
              "    <tr>\n",
              "      <th id=\"T_9fca5_level0_row8\" class=\"row_heading level0 row8\" >br</th>\n",
              "      <td id=\"T_9fca5_row8_col0\" class=\"data row8 col0\" >Bayesian Ridge</td>\n",
              "      <td id=\"T_9fca5_row8_col1\" class=\"data row8 col1\" >622.6329</td>\n",
              "      <td id=\"T_9fca5_row8_col2\" class=\"data row8 col2\" >671514.0603</td>\n",
              "      <td id=\"T_9fca5_row8_col3\" class=\"data row8 col3\" >818.9197</td>\n",
              "      <td id=\"T_9fca5_row8_col4\" class=\"data row8 col4\" >0.4657</td>\n",
              "      <td id=\"T_9fca5_row8_col5\" class=\"data row8 col5\" >1.4554</td>\n",
              "      <td id=\"T_9fca5_row8_col6\" class=\"data row8 col6\" >4.3951</td>\n",
              "      <td id=\"T_9fca5_row8_col7\" class=\"data row8 col7\" >0.0540</td>\n",
              "    </tr>\n",
              "    <tr>\n",
              "      <th id=\"T_9fca5_level0_row9\" class=\"row_heading level0 row9\" >lar</th>\n",
              "      <td id=\"T_9fca5_row9_col0\" class=\"data row9 col0\" >Least Angle Regression</td>\n",
              "      <td id=\"T_9fca5_row9_col1\" class=\"data row9 col1\" >623.4796</td>\n",
              "      <td id=\"T_9fca5_row9_col2\" class=\"data row9 col2\" >671514.9119</td>\n",
              "      <td id=\"T_9fca5_row9_col3\" class=\"data row9 col3\" >818.9224</td>\n",
              "      <td id=\"T_9fca5_row9_col4\" class=\"data row9 col4\" >0.4657</td>\n",
              "      <td id=\"T_9fca5_row9_col5\" class=\"data row9 col5\" >1.4586</td>\n",
              "      <td id=\"T_9fca5_row9_col6\" class=\"data row9 col6\" >4.4355</td>\n",
              "      <td id=\"T_9fca5_row9_col7\" class=\"data row9 col7\" >0.0550</td>\n",
              "    </tr>\n",
              "    <tr>\n",
              "      <th id=\"T_9fca5_level0_row10\" class=\"row_heading level0 row10\" >ridge</th>\n",
              "      <td id=\"T_9fca5_row10_col0\" class=\"data row10 col0\" >Ridge Regression</td>\n",
              "      <td id=\"T_9fca5_row10_col1\" class=\"data row10 col1\" >623.4350</td>\n",
              "      <td id=\"T_9fca5_row10_col2\" class=\"data row10 col2\" >671514.6082</td>\n",
              "      <td id=\"T_9fca5_row10_col3\" class=\"data row10 col3\" >818.9221</td>\n",
              "      <td id=\"T_9fca5_row10_col4\" class=\"data row10 col4\" >0.4657</td>\n",
              "      <td id=\"T_9fca5_row10_col5\" class=\"data row10 col5\" >1.4584</td>\n",
              "      <td id=\"T_9fca5_row10_col6\" class=\"data row10 col6\" >4.4334</td>\n",
              "      <td id=\"T_9fca5_row10_col7\" class=\"data row10 col7\" >0.0540</td>\n",
              "    </tr>\n",
              "    <tr>\n",
              "      <th id=\"T_9fca5_level0_row11\" class=\"row_heading level0 row11\" >lasso</th>\n",
              "      <td id=\"T_9fca5_row11_col0\" class=\"data row11 col0\" >Lasso Regression</td>\n",
              "      <td id=\"T_9fca5_row11_col1\" class=\"data row11 col1\" >623.2441</td>\n",
              "      <td id=\"T_9fca5_row11_col2\" class=\"data row11 col2\" >671514.6061</td>\n",
              "      <td id=\"T_9fca5_row11_col3\" class=\"data row11 col3\" >818.9201</td>\n",
              "      <td id=\"T_9fca5_row11_col4\" class=\"data row11 col4\" >0.4657</td>\n",
              "      <td id=\"T_9fca5_row11_col5\" class=\"data row11 col5\" >1.4585</td>\n",
              "      <td id=\"T_9fca5_row11_col6\" class=\"data row11 col6\" >4.4256</td>\n",
              "      <td id=\"T_9fca5_row11_col7\" class=\"data row11 col7\" >0.0510</td>\n",
              "    </tr>\n",
              "    <tr>\n",
              "      <th id=\"T_9fca5_level0_row12\" class=\"row_heading level0 row12\" >llar</th>\n",
              "      <td id=\"T_9fca5_row12_col0\" class=\"data row12 col0\" >Lasso Least Angle Regression</td>\n",
              "      <td id=\"T_9fca5_row12_col1\" class=\"data row12 col1\" >623.2441</td>\n",
              "      <td id=\"T_9fca5_row12_col2\" class=\"data row12 col2\" >671514.6068</td>\n",
              "      <td id=\"T_9fca5_row12_col3\" class=\"data row12 col3\" >818.9201</td>\n",
              "      <td id=\"T_9fca5_row12_col4\" class=\"data row12 col4\" >0.4657</td>\n",
              "      <td id=\"T_9fca5_row12_col5\" class=\"data row12 col5\" >1.4585</td>\n",
              "      <td id=\"T_9fca5_row12_col6\" class=\"data row12 col6\" >4.4256</td>\n",
              "      <td id=\"T_9fca5_row12_col7\" class=\"data row12 col7\" >0.0560</td>\n",
              "    </tr>\n",
              "    <tr>\n",
              "      <th id=\"T_9fca5_level0_row13\" class=\"row_heading level0 row13\" >lr</th>\n",
              "      <td id=\"T_9fca5_row13_col0\" class=\"data row13 col0\" >Linear Regression</td>\n",
              "      <td id=\"T_9fca5_row13_col1\" class=\"data row13 col1\" >623.4796</td>\n",
              "      <td id=\"T_9fca5_row13_col2\" class=\"data row13 col2\" >671514.9119</td>\n",
              "      <td id=\"T_9fca5_row13_col3\" class=\"data row13 col3\" >818.9224</td>\n",
              "      <td id=\"T_9fca5_row13_col4\" class=\"data row13 col4\" >0.4657</td>\n",
              "      <td id=\"T_9fca5_row13_col5\" class=\"data row13 col5\" >1.4586</td>\n",
              "      <td id=\"T_9fca5_row13_col6\" class=\"data row13 col6\" >4.4355</td>\n",
              "      <td id=\"T_9fca5_row13_col7\" class=\"data row13 col7\" >0.9970</td>\n",
              "    </tr>\n",
              "    <tr>\n",
              "      <th id=\"T_9fca5_level0_row14\" class=\"row_heading level0 row14\" >omp</th>\n",
              "      <td id=\"T_9fca5_row14_col0\" class=\"data row14 col0\" >Orthogonal Matching Pursuit</td>\n",
              "      <td id=\"T_9fca5_row14_col1\" class=\"data row14 col1\" >614.2686</td>\n",
              "      <td id=\"T_9fca5_row14_col2\" class=\"data row14 col2\" >677251.1375</td>\n",
              "      <td id=\"T_9fca5_row14_col3\" class=\"data row14 col3\" >822.1407</td>\n",
              "      <td id=\"T_9fca5_row14_col4\" class=\"data row14 col4\" >0.4614</td>\n",
              "      <td id=\"T_9fca5_row14_col5\" class=\"data row14 col5\" >1.4806</td>\n",
              "      <td id=\"T_9fca5_row14_col6\" class=\"data row14 col6\" >4.5488</td>\n",
              "      <td id=\"T_9fca5_row14_col7\" class=\"data row14 col7\" >0.0560</td>\n",
              "    </tr>\n",
              "    <tr>\n",
              "      <th id=\"T_9fca5_level0_row15\" class=\"row_heading level0 row15\" >en</th>\n",
              "      <td id=\"T_9fca5_row15_col0\" class=\"data row15 col0\" >Elastic Net</td>\n",
              "      <td id=\"T_9fca5_row15_col1\" class=\"data row15 col1\" >596.0143</td>\n",
              "      <td id=\"T_9fca5_row15_col2\" class=\"data row15 col2\" >678007.0064</td>\n",
              "      <td id=\"T_9fca5_row15_col3\" class=\"data row15 col3\" >822.7941</td>\n",
              "      <td id=\"T_9fca5_row15_col4\" class=\"data row15 col4\" >0.4607</td>\n",
              "      <td id=\"T_9fca5_row15_col5\" class=\"data row15 col5\" >1.2748</td>\n",
              "      <td id=\"T_9fca5_row15_col6\" class=\"data row15 col6\" >3.1256</td>\n",
              "      <td id=\"T_9fca5_row15_col7\" class=\"data row15 col7\" >0.0590</td>\n",
              "    </tr>\n",
              "    <tr>\n",
              "      <th id=\"T_9fca5_level0_row16\" class=\"row_heading level0 row16\" >dummy</th>\n",
              "      <td id=\"T_9fca5_row16_col0\" class=\"data row16 col0\" >Dummy Regressor</td>\n",
              "      <td id=\"T_9fca5_row16_col1\" class=\"data row16 col1\" >907.1953</td>\n",
              "      <td id=\"T_9fca5_row16_col2\" class=\"data row16 col2\" >1264579.7250</td>\n",
              "      <td id=\"T_9fca5_row16_col3\" class=\"data row16 col3\" >1123.9615</td>\n",
              "      <td id=\"T_9fca5_row16_col4\" class=\"data row16 col4\" >-0.0060</td>\n",
              "      <td id=\"T_9fca5_row16_col5\" class=\"data row16 col5\" >1.9777</td>\n",
              "      <td id=\"T_9fca5_row16_col6\" class=\"data row16 col6\" >13.2957</td>\n",
              "      <td id=\"T_9fca5_row16_col7\" class=\"data row16 col7\" >0.0570</td>\n",
              "    </tr>\n",
              "    <tr>\n",
              "      <th id=\"T_9fca5_level0_row17\" class=\"row_heading level0 row17\" >huber</th>\n",
              "      <td id=\"T_9fca5_row17_col0\" class=\"data row17 col0\" >Huber Regressor</td>\n",
              "      <td id=\"T_9fca5_row17_col1\" class=\"data row17 col1\" >807.4814</td>\n",
              "      <td id=\"T_9fca5_row17_col2\" class=\"data row17 col2\" >1378694.9817</td>\n",
              "      <td id=\"T_9fca5_row17_col3\" class=\"data row17 col3\" >1173.0667</td>\n",
              "      <td id=\"T_9fca5_row17_col4\" class=\"data row17 col4\" >-0.0959</td>\n",
              "      <td id=\"T_9fca5_row17_col5\" class=\"data row17 col5\" >1.7948</td>\n",
              "      <td id=\"T_9fca5_row17_col6\" class=\"data row17 col6\" >8.4019</td>\n",
              "      <td id=\"T_9fca5_row17_col7\" class=\"data row17 col7\" >0.0780</td>\n",
              "    </tr>\n",
              "    <tr>\n",
              "      <th id=\"T_9fca5_level0_row18\" class=\"row_heading level0 row18\" >par</th>\n",
              "      <td id=\"T_9fca5_row18_col0\" class=\"data row18 col0\" >Passive Aggressive Regressor</td>\n",
              "      <td id=\"T_9fca5_row18_col1\" class=\"data row18 col1\" >1603.0203</td>\n",
              "      <td id=\"T_9fca5_row18_col2\" class=\"data row18 col2\" >4838018.3606</td>\n",
              "      <td id=\"T_9fca5_row18_col3\" class=\"data row18 col3\" >1954.5028</td>\n",
              "      <td id=\"T_9fca5_row18_col4\" class=\"data row18 col4\" >-2.8264</td>\n",
              "      <td id=\"T_9fca5_row18_col5\" class=\"data row18 col5\" >2.4963</td>\n",
              "      <td id=\"T_9fca5_row18_col6\" class=\"data row18 col6\" >23.1888</td>\n",
              "      <td id=\"T_9fca5_row18_col7\" class=\"data row18 col7\" >0.0530</td>\n",
              "    </tr>\n",
              "  </tbody>\n",
              "</table>\n"
            ]
          },
          "metadata": {}
        },
        {
          "output_type": "display_data",
          "data": {
            "text/plain": [
              "Processing:   0%|          | 0/81 [00:00<?, ?it/s]"
            ],
            "application/vnd.jupyter.widget-view+json": {
              "version_major": 2,
              "version_minor": 0,
              "model_id": "5bf31aa729c24675ab33f5108af6ecea"
            }
          },
          "metadata": {
            "application/vnd.jupyter.widget-view+json": {
              "colab": {
                "custom_widget_manager": {
                  "url": "https://ssl.gstatic.com/colaboratory-static/widgets/colab-cdn-widget-manager/b3e629b1971e1542/manager.min.js"
                }
              }
            }
          }
        },
        {
          "output_type": "display_data",
          "data": {
            "text/plain": [
              "<IPython.core.display.HTML object>"
            ],
            "text/html": []
          },
          "metadata": {}
        }
      ]
    },
    {
      "cell_type": "markdown",
      "source": [
        "Setting the value to be predicted"
      ],
      "metadata": {
        "id": "F9pdfqknUgJG"
      }
    },
    {
      "cell_type": "code",
      "source": [
        "import datetime\n",
        "\n",
        "target_date = datetime.datetime(2023, 5, 21)\n",
        "target_data = pd.DataFrame({'Date': [target_date]})\n",
        "target_data['year'] = target_data['Date'].dt.year\n",
        "target_data['month'] = target_data['Date'].dt.month\n",
        "target_data['day'] = target_data['Date'].dt.day\n",
        "target_data['weekday'] = target_data['Date'].dt.weekday\n",
        "\n",
        "# Append 5 more rows to the dataset\n",
        "new_rows = [\n",
        "    {'Date': datetime.datetime(2023, 5, 22), 'year': 2023, 'month': 5, 'day': 22, 'weekday': 0},\n",
        "    {'Date': datetime.datetime(2023, 5, 23), 'year': 2023, 'month': 5, 'day': 23, 'weekday': 1},\n",
        "    {'Date': datetime.datetime(2023, 5, 24), 'year': 2023, 'month': 5, 'day': 24, 'weekday': 2},\n",
        "    {'Date': datetime.datetime(2023, 5, 25), 'year': 2023, 'month': 5, 'day': 25, 'weekday': 3},\n",
        "    {'Date': datetime.datetime(2023, 5, 26), 'year': 2023, 'month': 5, 'day': 26, 'weekday': 4}\n",
        "]\n",
        "\n",
        "target_data = target_data.append(new_rows, ignore_index=True)\n",
        "\n",
        "print(target_data)\n"
      ],
      "metadata": {
        "id": "rxO4LZD-GWQc",
        "colab": {
          "base_uri": "https://localhost:8080/"
        },
        "outputId": "0aa9d57e-fea6-4e64-bf3b-cc5285fc10fa"
      },
      "execution_count": null,
      "outputs": [
        {
          "output_type": "stream",
          "name": "stdout",
          "text": [
            "        Date  year  month  day  weekday\n",
            "0 2023-05-21  2023      5   21        6\n",
            "1 2023-05-22  2023      5   22        0\n",
            "2 2023-05-23  2023      5   23        1\n",
            "3 2023-05-24  2023      5   24        2\n",
            "4 2023-05-25  2023      5   25        3\n",
            "5 2023-05-26  2023      5   26        4\n"
          ]
        }
      ]
    },
    {
      "cell_type": "markdown",
      "source": [
        "Date *selection*"
      ],
      "metadata": {
        "id": "8zXkPp8k_b81"
      }
    },
    {
      "cell_type": "code",
      "source": [
        "df_2023 = df[(df['Date'].dt.year == 2023)  & (df['Date'].dt.month == 5)]"
      ],
      "metadata": {
        "id": "tTYQDvtP_bNB"
      },
      "execution_count": null,
      "outputs": []
    },
    {
      "cell_type": "markdown",
      "source": [
        "Models"
      ],
      "metadata": {
        "id": "6A6hEbNSURoK"
      }
    },
    {
      "cell_type": "markdown",
      "source": [
        "1)LinearRegression\n",
        "\n"
      ],
      "metadata": {
        "id": "aYshBOybUVbB"
      }
    },
    {
      "cell_type": "code",
      "source": [
        "from sklearn.linear_model import LinearRegression"
      ],
      "metadata": {
        "id": "jyL9YCX8FofM"
      },
      "execution_count": null,
      "outputs": []
    },
    {
      "cell_type": "code",
      "source": [
        "linear_reg = LinearRegression()\n",
        "linear_reg.fit(X_train, y_train)\n",
        "linear_reg_score = linear_reg.score(X_test, y_test)\n",
        "print(f\"Linear Regression Score: {linear_reg_score}\")"
      ],
      "metadata": {
        "colab": {
          "base_uri": "https://localhost:8080/"
        },
        "id": "aal3trezGQvl",
        "outputId": "eb64d12c-c3a0-4874-8d36-da45fbc71a21"
      },
      "execution_count": null,
      "outputs": [
        {
          "output_type": "stream",
          "name": "stdout",
          "text": [
            "Linear Regression Score: 0.48531590848812645\n"
          ]
        }
      ]
    },
    {
      "cell_type": "code",
      "source": [
        "linear_reg_prediction = linear_reg.predict(target_data[['year', 'month', 'day', 'weekday']])\n",
        "print(\"Linear Regression Prediction:\", linear_reg_prediction)"
      ],
      "metadata": {
        "colab": {
          "base_uri": "https://localhost:8080/"
        },
        "id": "qMou61qCH50o",
        "outputId": "c2492baf-e050-4a9b-f353-93dac378cbd4"
      },
      "execution_count": null,
      "outputs": [
        {
          "output_type": "stream",
          "name": "stdout",
          "text": [
            "Linear Regression Prediction: [2205.47210007 2261.47828147 2250.93584069 2240.39339991 2229.85095913\n",
            " 2219.30851835]\n"
          ]
        }
      ]
    },
    {
      "cell_type": "markdown",
      "source": [
        "Plot Result"
      ],
      "metadata": {
        "id": "9cF7tPdG_htm"
      }
    },
    {
      "cell_type": "code",
      "source": [
        "\n",
        "\n",
        "# Plot the 'Price' column against the 'Date' column\n",
        "plt.plot(df_2023['Date'], df_2023['Price'])\n",
        "plt.plot(target_data['Date'],linear_reg_prediction)\n",
        "plt.xlabel('Date')\n",
        "plt.ylabel('Price')\n",
        "plt.title('Ethereum Price in 2023')\n",
        "plt.show()"
      ],
      "metadata": {
        "colab": {
          "base_uri": "https://localhost:8080/",
          "height": 524
        },
        "id": "poS3w7HA9QR3",
        "outputId": "a19c15f6-f977-4818-c48a-53de1990e039"
      },
      "execution_count": null,
      "outputs": [
        {
          "output_type": "display_data",
          "data": {
            "text/plain": [
              "<Figure size 800x550 with 1 Axes>"
            ],
            "image/png": "[encoded data removed]"
          },
          "metadata": {}
        }
      ]
    },
    {
      "cell_type": "code",
      "source": [
        "linear_reg.coef_"
      ],
      "metadata": {
        "colab": {
          "base_uri": "https://localhost:8080/"
        },
        "id": "9Y0T_LipILLm",
        "outputId": "e224c9bf-cf35-43ad-d363-9f821227b4c4"
      },
      "execution_count": null,
      "outputs": [
        {
          "output_type": "execute_result",
          "data": {
            "text/plain": [
              "array([367.54775231,  21.07767949,  -1.03549475,  -9.50694603])"
            ]
          },
          "metadata": {},
          "execution_count": 107
        }
      ]
    },
    {
      "cell_type": "code",
      "source": [
        "linear_reg.intercept_"
      ],
      "metadata": {
        "colab": {
          "base_uri": "https://localhost:8080/"
        },
        "id": "d5LYBRQAIS0A",
        "outputId": "bb30a90f-1ff5-4577-f2fb-f5e1c65a4532"
      },
      "execution_count": null,
      "outputs": [
        {
          "output_type": "execute_result",
          "data": {
            "text/plain": [
              "-741370.2321569893"
            ]
          },
          "metadata": {},
          "execution_count": 108
        }
      ]
    },
    {
      "cell_type": "markdown",
      "source": [
        "2)DecisionTreeRegressor"
      ],
      "metadata": {
        "id": "sJ4r9XqkUn-h"
      }
    },
    {
      "cell_type": "code",
      "source": [
        "# DecisionTreeRegressor\n",
        "from sklearn.tree import DecisionTreeRegressor\n",
        "dt_reg = DecisionTreeRegressor()\n",
        "dt_reg.fit(X_train, y_train)\n",
        "dt_reg_score = dt_reg.score(X_test, y_test)\n",
        "print(f\"Decision Tree Regression Score: {dt_reg_score}\")"
      ],
      "metadata": {
        "colab": {
          "base_uri": "https://localhost:8080/"
        },
        "id": "-1fKYQL5H62h",
        "outputId": "ebaaf298-0c48-4b3b-835b-785574fcf99c"
      },
      "execution_count": null,
      "outputs": [
        {
          "output_type": "stream",
          "name": "stdout",
          "text": [
            "Decision Tree Regression Score: 0.9957652135274083\n"
          ]
        }
      ]
    },
    {
      "cell_type": "code",
      "source": [
        "dt_reg_prediction = dt_reg.predict(target_data[['year', 'month', 'day', 'weekday']])\n",
        "print(\"Decision Tree Regression Prediction:\", dt_reg_prediction)"
      ],
      "metadata": {
        "colab": {
          "base_uri": "https://localhost:8080/"
        },
        "id": "o5ddZ1ZoIsjD",
        "outputId": "9357d0b0-2d05-4961-d2ab-126dab8cb96c"
      },
      "execution_count": null,
      "outputs": [
        {
          "output_type": "stream",
          "name": "stdout",
          "text": [
            "Decision Tree Regression Prediction: [1800.99 1817.11 1821.73 1821.73 1800.99 1800.99]\n"
          ]
        }
      ]
    },
    {
      "cell_type": "markdown",
      "source": [
        "Plot Result"
      ],
      "metadata": {
        "id": "owatjq3_B8eI"
      }
    },
    {
      "cell_type": "code",
      "source": [
        "# Plot the 'Price' column against the 'Date' column\n",
        "plt.plot(df_2023['Date'], df_2023['Price'])\n",
        "plt.plot(target_data['Date'],dt_reg_prediction)\n",
        "plt.xlabel('Date')\n",
        "plt.ylabel('Price')\n",
        "plt.title('Ethereum Price in 2023')\n",
        "plt.show()"
      ],
      "metadata": {
        "colab": {
          "base_uri": "https://localhost:8080/",
          "height": 524
        },
        "id": "yNNSida0_ocm",
        "outputId": "4c6778ae-10a8-4ee1-c722-72bb7ac9d368"
      },
      "execution_count": null,
      "outputs": [
        {
          "output_type": "display_data",
          "data": {
            "text/plain": [
              "<Figure size 800x550 with 1 Axes>"
            ],
            "image/png": "[encoded data removed]"
          },
          "metadata": {}
        }
      ]
    },
    {
      "cell_type": "code",
      "source": [],
      "metadata": {
        "id": "7tT1QrS7LmHb"
      },
      "execution_count": null,
      "outputs": []
    },
    {
      "cell_type": "markdown",
      "source": [
        "3)RandomForestRegressor"
      ],
      "metadata": {
        "id": "olO6JFjvUrzn"
      }
    },
    {
      "cell_type": "code",
      "source": [
        "#RandomForestRegressor\n",
        "from sklearn.ensemble import RandomForestRegressor\n",
        "RAM_regressor = RandomForestRegressor(n_estimators = 1000, random_state = 42)\n",
        "RAM_regressor.fit(X_train, y_train)\n",
        "RAM_regressor_score = RAM_regressor.score(X_test, y_test)\n",
        "print(f\"RandomForestRegressor Score: {RAM_regressor_score}\")"
      ],
      "metadata": {
        "colab": {
          "base_uri": "https://localhost:8080/"
        },
        "id": "HXQi-DlaJwGP",
        "outputId": "94d3758a-cd7a-41c7-f917-f81e64423ff3"
      },
      "execution_count": null,
      "outputs": [
        {
          "output_type": "stream",
          "name": "stdout",
          "text": [
            "RandomForestRegressor Score: 0.9965880475094776\n"
          ]
        }
      ]
    },
    {
      "cell_type": "code",
      "source": [
        "RAM_regressor_prediction = RAM_regressor.predict(target_data[['year', 'month', 'day', 'weekday']])\n",
        "print(\"RandomForestRegressor Prediction:\", RAM_regressor_prediction)"
      ],
      "metadata": {
        "colab": {
          "base_uri": "https://localhost:8080/"
        },
        "id": "QW3_9wkeLylB",
        "outputId": "8a019ce7-6d01-4455-f761-2b376e7e94e6"
      },
      "execution_count": null,
      "outputs": [
        {
          "output_type": "stream",
          "name": "stdout",
          "text": [
            "RandomForestRegressor Prediction: [1818.02034 1836.63155 1831.07743 1828.03557 1817.99317 1823.18349]\n"
          ]
        }
      ]
    },
    {
      "cell_type": "markdown",
      "source": [
        "Plot Result"
      ],
      "metadata": {
        "id": "exx_GgYSB11o"
      }
    },
    {
      "cell_type": "code",
      "source": [
        "# Plot the 'Price' column against the 'Date' column\n",
        "plt.plot(df_2023['Date'], df_2023['Price'])\n",
        "plt.plot(target_data['Date'],RAM_regressor_prediction)\n",
        "plt.xlabel('Date')\n",
        "plt.ylabel('Price')\n",
        "plt.title('Ethereum Price in 2023')\n",
        "plt.show()"
      ],
      "metadata": {
        "colab": {
          "base_uri": "https://localhost:8080/",
          "height": 524
        },
        "id": "up7FxtGe__hj",
        "outputId": "3eefa072-9a67-4b4b-e83a-8185772b9cf5"
      },
      "execution_count": null,
      "outputs": [
        {
          "output_type": "display_data",
          "data": {
            "text/plain": [
              "<Figure size 800x550 with 1 Axes>"
            ],
            "image/png": "[encoded data removed]"
          },
          "metadata": {}
        }
      ]
    },
    {
      "cell_type": "markdown",
      "source": [
        "PLot result"
      ],
      "metadata": {
        "id": "13Mg1UDTBzM3"
      }
    },
    {
      "cell_type": "markdown",
      "source": [
        "3)ExtraTreesRegressor"
      ],
      "metadata": {
        "id": "e7xYJjCZUxqF"
      }
    },
    {
      "cell_type": "code",
      "source": [
        "#ExtraTreesRegressor\n",
        "from sklearn.ensemble import ExtraTreesRegressor\n",
        "Et_reg=ExtraTreesRegressor()\n",
        "Et_reg.fit(X_train, y_train)\n",
        "Et_reg_score=Et_reg.score(X_train, y_train)\n",
        "print(f\"Et_reg Regressor Score: {Et_reg_score}\")"
      ],
      "metadata": {
        "colab": {
          "base_uri": "https://localhost:8080/"
        },
        "id": "p1bwJC80L-zV",
        "outputId": "63d21b64-0a0c-4c10-9d7b-14b4c47206e0"
      },
      "execution_count": null,
      "outputs": [
        {
          "output_type": "stream",
          "name": "stdout",
          "text": [
            "Et_reg Regressor Score: 0.9999999999997998\n"
          ]
        }
      ]
    },
    {
      "cell_type": "code",
      "source": [
        "Et_reg_prediction = RAM_regressor.predict(target_data[['year', 'month', 'day', 'weekday']])\n",
        "print(\"Linear Regression Prediction:\", Et_reg_prediction)"
      ],
      "metadata": {
        "colab": {
          "base_uri": "https://localhost:8080/"
        },
        "id": "ZMei0PgYPz2g",
        "outputId": "7211c865-4051-4c52-f6e5-cf650f7d362d"
      },
      "execution_count": null,
      "outputs": [
        {
          "output_type": "stream",
          "name": "stdout",
          "text": [
            "Linear Regression Prediction: [1818.02034 1836.63155 1831.07743 1828.03557 1817.99317 1823.18349]\n"
          ]
        }
      ]
    },
    {
      "cell_type": "markdown",
      "source": [
        "PLot result"
      ],
      "metadata": {
        "id": "oM6NO1jDBv2z"
      }
    },
    {
      "cell_type": "code",
      "source": [
        "plt.plot(df_2023['Date'], df_2023['Price'])\n",
        "plt.plot(target_data['Date'],Et_reg_prediction)\n",
        "plt.xlabel('Date')\n",
        "plt.ylabel('Price')\n",
        "plt.title('Ethereum Price in 2023')\n",
        "plt.show()"
      ],
      "metadata": {
        "colab": {
          "base_uri": "https://localhost:8080/",
          "height": 524
        },
        "id": "NIsZcjxaA5be",
        "outputId": "22151228-5ecb-47bb-e280-304d1f34ae23"
      },
      "execution_count": null,
      "outputs": [
        {
          "output_type": "display_data",
          "data": {
            "text/plain": [
              "<Figure size 800x550 with 1 Axes>"
            ],
            "image/png": "[encoded data removed]"
          },
          "metadata": {}
        }
      ]
    },
    {
      "cell_type": "markdown",
      "source": [
        "4)KNeighborsRegressor"
      ],
      "metadata": {
        "id": "e51rCy4fU22K"
      }
    },
    {
      "cell_type": "code",
      "source": [
        "#knn\n",
        "from sklearn.neighbors import KNeighborsRegressor\n",
        "knn=KNeighborsRegressor()\n",
        "knn.fit(X_train, y_train)\n",
        "knn_score=knn.score(X_train, y_train)\n",
        "print(f\"Extra Trees Regressor Score: {knn_score}\")"
      ],
      "metadata": {
        "colab": {
          "base_uri": "https://localhost:8080/"
        },
        "id": "v8wvm5eYP27x",
        "outputId": "aba4d25c-471a-4c38-8863-6e21bf0a7403"
      },
      "execution_count": null,
      "outputs": [
        {
          "output_type": "stream",
          "name": "stdout",
          "text": [
            "Extra Trees Regressor Score: 0.6359044893461854\n"
          ]
        }
      ]
    },
    {
      "cell_type": "code",
      "source": [
        "knn_prediction = knn.predict(target_data[['year', 'month', 'day', 'weekday']])\n",
        "print(\"Linear Regression Prediction:\", knn_prediction)"
      ],
      "metadata": {
        "colab": {
          "base_uri": "https://localhost:8080/"
        },
        "id": "53VtVRlhRjhz",
        "outputId": "f57a38b2-1a6e-4456-a607-89693d74c2d1"
      },
      "execution_count": null,
      "outputs": [
        {
          "output_type": "stream",
          "name": "stdout",
          "text": [
            "Linear Regression Prediction: [2204.282 1957.414 2139.246 1754.856 1738.672 1706.868]\n"
          ]
        }
      ]
    },
    {
      "cell_type": "markdown",
      "source": [
        "PLot result"
      ],
      "metadata": {
        "id": "rQzZr9EZBo1P"
      }
    },
    {
      "cell_type": "code",
      "source": [
        "plt.plot(df_2023['Date'], df_2023['Price'])\n",
        "plt.plot(target_data['Date'],knn_prediction)\n",
        "plt.xlabel('Date')\n",
        "plt.ylabel('Price')\n",
        "plt.title('Ethereum Price in 2023')\n",
        "plt.show()"
      ],
      "metadata": {
        "colab": {
          "base_uri": "https://localhost:8080/",
          "height": 524
        },
        "id": "imFmgX6Z5coE",
        "outputId": "63e65ba6-636c-421f-f246-c9db0b2badf1"
      },
      "execution_count": null,
      "outputs": [
        {
          "output_type": "display_data",
          "data": {
            "text/plain": [
              "<Figure size 800x550 with 1 Axes>"
            ],
            "image/png": "[encoded data removed]"
          },
          "metadata": {}
        }
      ]
    },
    {
      "cell_type": "code",
      "source": [],
      "metadata": {
        "id": "9xwqBmncBJxD"
      },
      "execution_count": null,
      "outputs": []
    }
  ]
}